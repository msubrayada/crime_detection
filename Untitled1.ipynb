{
 "cells": [
  {
   "cell_type": "code",
   "execution_count": 19,
   "id": "751a0bb5-f5ea-44e7-ab34-a6c26a5c3183",
   "metadata": {},
   "outputs": [],
   "source": [
    "import pandas as pd\n",
    "import os\n",
    "from sklearn.model_selection import train_test_split\n",
    "import numpy as np"
   ]
  },
  {
   "cell_type": "code",
   "execution_count": 3,
   "id": "5764df65-a208-4a35-9769-c180a917d618",
   "metadata": {},
   "outputs": [],
   "source": [
    "dataframe = pd.read_csv(\"UCF-crime-frames-descriptions-partitions.csv\")"
   ]
  },
  {
   "cell_type": "code",
   "execution_count": 4,
   "id": "740b01be-762c-4287-9a7f-175bff2b6eba",
   "metadata": {},
   "outputs": [],
   "source": [
    "frame_names = [os.path.splitext(file)[0].split('_')[0] for file in dataframe['frame']]"
   ]
  },
  {
   "cell_type": "code",
   "execution_count": 6,
   "id": "085a2d60-499f-4ffa-ade8-c6e68372fb75",
   "metadata": {},
   "outputs": [],
   "source": [
    "block_names = list(set(frame_names))"
   ]
  },
  {
   "cell_type": "code",
   "execution_count": 7,
   "id": "318678b9-06a3-40a3-8541-bc72a871f6ea",
   "metadata": {},
   "outputs": [],
   "source": [
    "X_train = []\n",
    "y_train = []\n",
    "X_test = []\n",
    "y_test = []"
   ]
  },
  {
   "cell_type": "code",
   "execution_count": 234,
   "id": "a380376a-5d15-40b0-828a-a8aa9f9b412a",
   "metadata": {},
   "outputs": [
    {
     "name": "stdout",
     "output_type": "stream",
     "text": [
      "418 47\n"
     ]
    }
   ],
   "source": [
    "block_names_train, block_names_test = train_test_split(block_names, test_size=0.1, random_state=42)\n",
    "print(len(block_names_train), len(block_names_test))"
   ]
  },
  {
   "cell_type": "code",
   "execution_count": 235,
   "id": "e0554267-6f5f-4968-9db5-9f2d4469f862",
   "metadata": {},
   "outputs": [],
   "source": [
    "train_indexes = dataframe.index[dataframe['frame'].str.split('_').str[0].isin(block_names_train)]"
   ]
  },
  {
   "cell_type": "code",
   "execution_count": 236,
   "id": "7caa3c6f-4065-4f15-9298-f5ef0f58251b",
   "metadata": {},
   "outputs": [],
   "source": [
    "test_indexes = dataframe.index[dataframe['frame'].str.split('_').str[0].isin(block_names_test)]"
   ]
  },
  {
   "cell_type": "code",
   "execution_count": 237,
   "id": "fa99d0f5-5913-4d03-9716-bfd4533ef0f2",
   "metadata": {},
   "outputs": [],
   "source": [
    "X_train = dataframe.loc[train_indexes]"
   ]
  },
  {
   "cell_type": "code",
   "execution_count": 238,
   "id": "f9d706cc-2285-4a98-aa99-df698ebd6f2d",
   "metadata": {},
   "outputs": [],
   "source": [
    "X_test = dataframe.loc[test_indexes]"
   ]
  },
  {
   "cell_type": "code",
   "execution_count": 239,
   "id": "576c2445-ff87-4121-b17e-744b30cf7855",
   "metadata": {},
   "outputs": [
    {
     "data": {
      "text/plain": [
       "(167669, 20640)"
      ]
     },
     "execution_count": 239,
     "metadata": {},
     "output_type": "execute_result"
    }
   ],
   "source": [
    "len(X_train), len(X_test)"
   ]
  },
  {
   "cell_type": "code",
   "execution_count": 148,
   "id": "a696639d-cdae-483e-b0a9-bda429c9b6e7",
   "metadata": {},
   "outputs": [
    {
     "data": {
      "text/plain": [
       "Normal           40994\n",
       "Burglary          3684\n",
       "Arrest            2926\n",
       "Fighting          1847\n",
       "Arson             1277\n",
       "Explosion         1197\n",
       "Vandalism          642\n",
       "Abuse              603\n",
       "Shooting           272\n",
       "RoadAccidents      200\n",
       "Name: class, dtype: int64"
      ]
     },
     "execution_count": 148,
     "metadata": {},
     "output_type": "execute_result"
    }
   ],
   "source": [
    "X_test[\"class\"].value_counts()"
   ]
  },
  {
   "cell_type": "code",
   "execution_count": 229,
   "id": "fb7095f3-a678-4cff-88eb-79fd4b2c8e42",
   "metadata": {},
   "outputs": [],
   "source": [
    "X, T = train_test_split(X_test, test_size=0.4978, random_state=42)"
   ]
  },
  {
   "cell_type": "code",
   "execution_count": 230,
   "id": "5b78b53d-4ef3-4766-9fb9-d20a5705e0f5",
   "metadata": {},
   "outputs": [
    {
     "data": {
      "text/plain": [
       "((26939, 6), (26703, 6))"
      ]
     },
     "execution_count": 230,
     "metadata": {},
     "output_type": "execute_result"
    }
   ],
   "source": [
    "X.shape, T.shape"
   ]
  },
  {
   "cell_type": "code",
   "execution_count": 233,
   "id": "80bc8c46-f215-48a8-9864-c64df6713419",
   "metadata": {},
   "outputs": [
    {
     "data": {
      "text/plain": [
       "Normal           20315\n",
       "Burglary          1878\n",
       "Arrest            1461\n",
       "Fighting           923\n",
       "Arson              651\n",
       "Explosion          633\n",
       "Vandalism          324\n",
       "Abuse              288\n",
       "Shooting           131\n",
       "RoadAccidents       99\n",
       "Name: class, dtype: int64"
      ]
     },
     "execution_count": 233,
     "metadata": {},
     "output_type": "execute_result"
    }
   ],
   "source": [
    "T[\"class\"].value_counts()"
   ]
  },
  {
   "cell_type": "code",
   "execution_count": null,
   "id": "b88c6a56-f308-4e33-8727-6f86de8b36aa",
   "metadata": {},
   "outputs": [],
   "source": []
  }
 ],
 "metadata": {
  "kernelspec": {
   "display_name": "Python 3 (ipykernel)",
   "language": "python",
   "name": "python3"
  },
  "language_info": {
   "codemirror_mode": {
    "name": "ipython",
    "version": 3
   },
   "file_extension": ".py",
   "mimetype": "text/x-python",
   "name": "python",
   "nbconvert_exporter": "python",
   "pygments_lexer": "ipython3",
   "version": "3.10.11"
  }
 },
 "nbformat": 4,
 "nbformat_minor": 5
}
