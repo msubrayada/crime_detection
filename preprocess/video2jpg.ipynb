{
 "cells": [
  {
   "cell_type": "code",
   "execution_count": 1,
   "metadata": {},
   "outputs": [],
   "source": [
    "import pandas as pd\n",
    "import cv2\n",
    "import os"
   ]
  },
  {
   "cell_type": "code",
   "execution_count": 2,
   "metadata": {},
   "outputs": [],
   "source": [
    "def get_frames(video, path, directory, frame_skip=10):\n",
    "    vidcap = cv2.VideoCapture(path + directory + \"/\" + video)\n",
    "    success, image = vidcap.read()\n",
    "    count = 0\n",
    "    while success:\n",
    "        fn = f\"{path}/{directory}_frames/{video}_frame_\" + str(count).zfill(6)+ \".jpg\"\n",
    "        if (count % frame_skip == 0):\n",
    "            cv2.imwrite(fn, image)             \n",
    "        success, image = vidcap.read()\n",
    "        \n",
    "        count += 1"
   ]
  },
  {
   "cell_type": "code",
   "execution_count": 6,
   "metadata": {},
   "outputs": [],
   "source": [
    "videos = pd.read_csv(\"d:/data/UCF-crime/Labeling.csv\")"
   ]
  },
  {
   "cell_type": "code",
   "execution_count": 7,
   "metadata": {},
   "outputs": [],
   "source": [
    "path = \"d:/data/UCF-crime/Anomaly-Videos-Part-3/\"\n",
    "directory = \"RoadAccidents\""
   ]
  },
  {
   "cell_type": "code",
   "execution_count": 8,
   "metadata": {},
   "outputs": [],
   "source": [
    "file_names = videos[\"file\"][(videos[\"label\"]==directory) & (~videos[\"init1\"].isnull())]"
   ]
  },
  {
   "cell_type": "code",
   "execution_count": 9,
   "metadata": {},
   "outputs": [
    {
     "name": "stdout",
     "output_type": "stream",
     "text": [
      "RoadAccidents001_x264.mp4\n",
      "RoadAccidents002_x264.mp4\n",
      "RoadAccidents003_x264.mp4\n",
      "RoadAccidents004_x264.mp4\n",
      "RoadAccidents005_x264.mp4\n",
      "RoadAccidents006_x264.mp4\n",
      "RoadAccidents007_x264.mp4\n",
      "RoadAccidents008_x264.mp4\n",
      "RoadAccidents009_x264.mp4\n",
      "RoadAccidents010_x264.mp4\n",
      "RoadAccidents011_x264.mp4\n",
      "RoadAccidents012_x264.mp4\n",
      "RoadAccidents013_x264.mp4\n",
      "RoadAccidents014_x264.mp4\n",
      "RoadAccidents015_x264.mp4\n",
      "RoadAccidents016_x264.mp4\n",
      "RoadAccidents017_x264.mp4\n",
      "RoadAccidents018_x264.mp4\n",
      "RoadAccidents019_x264.mp4\n",
      "RoadAccidents020_x264.mp4\n",
      "RoadAccidents021_x264.mp4\n",
      "RoadAccidents022_x264.mp4\n",
      "RoadAccidents023_x264.mp4\n",
      "RoadAccidents024_x264.mp4\n",
      "RoadAccidents025_x264.mp4\n",
      "RoadAccidents026_x264.mp4\n",
      "RoadAccidents027_x264.mp4\n",
      "RoadAccidents028_x264.mp4\n",
      "RoadAccidents029_x264.mp4\n",
      "RoadAccidents030_x264.mp4\n",
      "RoadAccidents031_x264.mp4\n",
      "RoadAccidents032_x264.mp4\n",
      "RoadAccidents033_x264.mp4\n",
      "RoadAccidents034_x264.mp4\n",
      "RoadAccidents035_x264.mp4\n",
      "RoadAccidents036_x264.mp4\n",
      "RoadAccidents037_x264.mp4\n",
      "RoadAccidents038_x264.mp4\n",
      "RoadAccidents039_x264.mp4\n",
      "RoadAccidents040_x264.mp4\n",
      "RoadAccidents041_x264.mp4\n",
      "RoadAccidents042_x264.mp4\n",
      "RoadAccidents043_x264.mp4\n",
      "RoadAccidents044_x264.mp4\n",
      "RoadAccidents046_x264.mp4\n",
      "RoadAccidents047_x264.mp4\n",
      "RoadAccidents048_x264.mp4\n",
      "RoadAccidents049_x264.mp4\n",
      "RoadAccidents050_x264.mp4\n",
      "RoadAccidents051_x264.mp4\n",
      "RoadAccidents052_x264.mp4\n",
      "RoadAccidents053_x264.mp4\n",
      "RoadAccidents054_x264.mp4\n",
      "RoadAccidents055_x264.mp4\n",
      "RoadAccidents056_x264.mp4\n",
      "RoadAccidents057_x264.mp4\n",
      "RoadAccidents058_x264.mp4\n",
      "RoadAccidents059_x264.mp4\n",
      "RoadAccidents060_x264.mp4\n",
      "RoadAccidents061_x264.mp4\n",
      "RoadAccidents062_x264.mp4\n",
      "RoadAccidents063_x264.mp4\n",
      "RoadAccidents064_x264.mp4\n",
      "RoadAccidents065_x264.mp4\n",
      "RoadAccidents066_x264.mp4\n",
      "RoadAccidents121_x264.mp4\n",
      "RoadAccidents122_x264.mp4\n",
      "RoadAccidents123_x264.mp4\n",
      "RoadAccidents124_x264.mp4\n",
      "RoadAccidents125_x264.mp4\n",
      "RoadAccidents127_x264.mp4\n",
      "RoadAccidents128_x264.mp4\n",
      "RoadAccidents129_x264.mp4\n",
      "RoadAccidents130_x264.mp4\n",
      "RoadAccidents131_x264.mp4\n",
      "RoadAccidents132_x264.mp4\n",
      "RoadAccidents133_x264.mp4\n"
     ]
    }
   ],
   "source": [
    "for f in file_names:\n",
    "    print(f)\n",
    "    get_frames(f, path, directory)"
   ]
  },
  {
   "cell_type": "code",
   "execution_count": null,
   "metadata": {},
   "outputs": [],
   "source": []
  }
 ],
 "metadata": {
  "kernelspec": {
   "display_name": "Python 3 (ipykernel)",
   "language": "python",
   "name": "python3"
  },
  "language_info": {
   "codemirror_mode": {
    "name": "ipython",
    "version": 3
   },
   "file_extension": ".py",
   "mimetype": "text/x-python",
   "name": "python",
   "nbconvert_exporter": "python",
   "pygments_lexer": "ipython3",
   "version": "3.9.16"
  }
 },
 "nbformat": 4,
 "nbformat_minor": 4
}
