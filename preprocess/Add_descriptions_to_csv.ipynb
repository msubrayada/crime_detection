{
 "cells": [
  {
   "cell_type": "code",
   "execution_count": 4,
   "id": "07101c02-4662-4afd-ab46-8ff4bc7d7098",
   "metadata": {},
   "outputs": [],
   "source": [
    "import pandas as pd\n",
    "import json"
   ]
  },
  {
   "cell_type": "code",
   "execution_count": 39,
   "id": "944527bb-2fb8-44db-adef-be7e366e011b",
   "metadata": {},
   "outputs": [],
   "source": [
    "data = pd.read_csv(\"UCF-crime-frames.csv\")"
   ]
  },
  {
   "cell_type": "code",
   "execution_count": 25,
   "id": "b174262a-29a1-4067-bd78-bed3ab9437ec",
   "metadata": {},
   "outputs": [],
   "source": [
    "with open(\"desc-Abuse.txt\", 'r') as f:\n",
    "    desc = json.load(f)"
   ]
  },
  {
   "cell_type": "code",
   "execution_count": 26,
   "id": "b1f32901-1cfb-43e7-9cc4-fd3c4e6f30f6",
   "metadata": {},
   "outputs": [],
   "source": [
    "with open(\"desc-RoadAccidents.txt\", 'r') as f:\n",
    "    desc += json.load(f)"
   ]
  },
  {
   "cell_type": "code",
   "execution_count": 27,
   "id": "a705aca7-5136-4dd8-b2eb-1c717a5de415",
   "metadata": {},
   "outputs": [],
   "source": [
    "with open(\"desc-Arrest.txt\", 'r') as f:\n",
    "    desc += json.load(f)"
   ]
  },
  {
   "cell_type": "code",
   "execution_count": 28,
   "id": "162a2c53-7605-46ae-a908-7d23fe58b64e",
   "metadata": {},
   "outputs": [],
   "source": [
    "with open(\"desc-Arson.txt\", 'r') as f:\n",
    "    desc += json.load(f)"
   ]
  },
  {
   "cell_type": "code",
   "execution_count": 29,
   "id": "eb6879fa-1503-40b1-b080-7612e2aae62c",
   "metadata": {},
   "outputs": [],
   "source": [
    "with open(\"desc-Burglary.txt\", 'r') as f:\n",
    "    desc += json.load(f)"
   ]
  },
  {
   "cell_type": "code",
   "execution_count": 30,
   "id": "c2bc8f6c-63a2-4b81-adbc-069cebf43a5c",
   "metadata": {},
   "outputs": [],
   "source": [
    "with open(\"desc-Explosion.txt\", 'r') as f:\n",
    "    desc += json.load(f)"
   ]
  },
  {
   "cell_type": "code",
   "execution_count": 31,
   "id": "e9d4b711-56fb-477f-b3cf-fc07cb768501",
   "metadata": {},
   "outputs": [],
   "source": [
    "with open(\"desc-Vandalism.txt\", 'r') as f:\n",
    "    desc += json.load(f)"
   ]
  },
  {
   "cell_type": "code",
   "execution_count": 32,
   "id": "c533987f-ff08-4625-a2d5-76282b45572c",
   "metadata": {},
   "outputs": [],
   "source": [
    "with open(\"desc-Fighting.txt\", 'r') as f:\n",
    "    desc += json.load(f)"
   ]
  },
  {
   "cell_type": "code",
   "execution_count": 33,
   "id": "92367bdf-c10d-472c-ad56-adb759d2fddb",
   "metadata": {},
   "outputs": [],
   "source": [
    "with open(\"desc-Shooting.txt\", 'r') as f:\n",
    "    desc += json.load(f)"
   ]
  },
  {
   "cell_type": "code",
   "execution_count": 40,
   "id": "479a7a7c-540f-4694-8852-f75bfbf5ba5c",
   "metadata": {},
   "outputs": [],
   "source": [
    "descriptions = []\n",
    "for frame, d in zip(data[\"frame\"], desc):\n",
    "    if (frame == d[0]):\n",
    "        descriptions.append(d[1][0][0:-1])\n",
    "    else:\n",
    "        print(\"Error!!\")\n",
    "        break"
   ]
  },
  {
   "cell_type": "code",
   "execution_count": 41,
   "id": "e2f1dabf-b55a-4c8b-9d0c-b16b27bd0a0c",
   "metadata": {},
   "outputs": [],
   "source": [
    "data[\"Description\"] = descriptions"
   ]
  },
  {
   "cell_type": "code",
   "execution_count": 42,
   "id": "41ac38e0-dbb3-4ddc-9a6e-6c6218e74163",
   "metadata": {},
   "outputs": [],
   "source": [
    "data.to_csv(\"UCF-crime-frames-descriptions.csv\", index=False)"
   ]
  },
  {
   "cell_type": "code",
   "execution_count": null,
   "id": "da23114d-bef9-4629-af1f-6173c16049cc",
   "metadata": {},
   "outputs": [],
   "source": []
  }
 ],
 "metadata": {
  "kernelspec": {
   "display_name": "Python 3 (ipykernel)",
   "language": "python",
   "name": "python3"
  },
  "language_info": {
   "codemirror_mode": {
    "name": "ipython",
    "version": 3
   },
   "file_extension": ".py",
   "mimetype": "text/x-python",
   "name": "python",
   "nbconvert_exporter": "python",
   "pygments_lexer": "ipython3",
   "version": "3.9.16"
  }
 },
 "nbformat": 4,
 "nbformat_minor": 5
}
