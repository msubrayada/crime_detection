{
 "cells": [
  {
   "cell_type": "code",
   "execution_count": 5,
   "id": "741d50af-2343-4128-bc81-ffef9b11af7d",
   "metadata": {},
   "outputs": [],
   "source": [
    "import torch\n",
    "import numpy as np\n",
    "from transformers import Blip2Processor, Blip2Model\n",
    "from PIL import Image\n",
    "import time\n",
    "import os"
   ]
  },
  {
   "cell_type": "code",
   "execution_count": 2,
   "id": "52b0c5c3-30a2-47d0-8163-7ecdccae5239",
   "metadata": {},
   "outputs": [
    {
     "name": "stderr",
     "output_type": "stream",
     "text": [
      "Loading checkpoint shards: 100%|████████████████████████████████████████████████████████████████████████████████| 2/2 [00:38<00:00, 19.38s/it]\n"
     ]
    }
   ],
   "source": [
    "processor = Blip2Processor.from_pretrained(\"Salesforce/blip2-opt-2.7b\")\n",
    "# by default `from_pretrained` loads the weights in float32\n",
    "# we load in float16 instead to save memory\n",
    "model = Blip2Model.from_pretrained(\"Salesforce/blip2-opt-2.7b\", torch_dtype=torch.float16)"
   ]
  },
  {
   "cell_type": "code",
   "execution_count": 3,
   "id": "4061cce0-e45f-407d-afaf-eb6d7a509b39",
   "metadata": {},
   "outputs": [
    {
     "name": "stdout",
     "output_type": "stream",
     "text": [
      "cuda\n"
     ]
    }
   ],
   "source": [
    "device = \"cuda\" if torch.cuda.is_available() else \"cpu\"\n",
    "model.to(device)\n",
    "print(device)"
   ]
  },
  {
   "cell_type": "code",
   "execution_count": 4,
   "id": "87c4a935-cf36-4c8d-8b20-39345f8b1832",
   "metadata": {},
   "outputs": [],
   "source": [
    "def load_images(files, bs=16):\n",
    "    init = 0\n",
    "    while(init < len(files)):\n",
    "        yield files[init:init + bs]\n",
    "        init += bs\n",
    "        \n",
    "def save_features(files, features):\n",
    "    path = f\"d:/data/UCF-crime/Anomaly-videos-qformer-features/{label}/\"\n",
    "    for f, feat in zip(files, features[1]):\n",
    "        np.save(path + f, feat.cpu().detach().numpy())\n",
    "        "
   ]
  },
  {
   "cell_type": "code",
   "execution_count": 13,
   "id": "875bebc1-9e26-4435-a3e2-d6100b5262da",
   "metadata": {
    "tags": []
   },
   "outputs": [],
   "source": [
    "label = \"Explosion\"\n",
    "frames = os.listdir(f\"d:/data/UCF-crime/Anomaly-videos-frames/{label}_frames/\")\n",
    "#gen = load_images(frames, bs=1)\n",
    "\n",
    "path = f\"d:/data/UCF-crime/Anomaly-videos-frames/{label}_frames/\"\n",
    "desc = []\n",
    "for f in frames:\n",
    "    image = Image.open(path + f)    \n",
    "    inputs = processor(images=image, return_tensors=\"pt\").to(device, torch.float16)    \n",
    "    features = model.get_qformer_features(**inputs, return_dict=False)\n",
    "    save_features([f], features)    "
   ]
  },
  {
   "cell_type": "code",
   "execution_count": 14,
   "id": "b1019a4b-a1e2-44bf-a1d0-931c27fa4d63",
   "metadata": {},
   "outputs": [],
   "source": [
    "label = \"Fighting\"\n",
    "frames = os.listdir(f\"d:/data/UCF-crime/Anomaly-videos-frames/{label}_frames/\")\n",
    "#gen = load_images(frames, bs=1)\n",
    "path = f\"d:/data/UCF-crime/Anomaly-videos-frames/{label}_frames/\"\n",
    "desc = []\n",
    "for f in frames:\n",
    "    image = Image.open(path + f)    \n",
    "    inputs = processor(images=image, return_tensors=\"pt\").to(device, torch.float16)    \n",
    "    features = model.get_qformer_features(**inputs, return_dict=False)\n",
    "    save_features([f], features)  "
   ]
  },
  {
   "cell_type": "code",
   "execution_count": 15,
   "id": "add7e69f-707e-4b1b-bbbc-6f06f917ae33",
   "metadata": {},
   "outputs": [],
   "source": [
    "label = \"RoadAccidents\"\n",
    "frames = os.listdir(f\"d:/data/UCF-crime/Anomaly-videos-frames/{label}_frames/\")\n",
    "#gen = load_images(frames, bs=1)\n",
    "path = f\"d:/data/UCF-crime/Anomaly-videos-frames/{label}_frames/\"\n",
    "desc = []\n",
    "for f in frames:\n",
    "    image = Image.open(path + f)    \n",
    "    inputs = processor(images=image, return_tensors=\"pt\").to(device, torch.float16)    \n",
    "    features = model.get_qformer_features(**inputs, return_dict=False)\n",
    "    save_features([f], features)  "
   ]
  },
  {
   "cell_type": "code",
   "execution_count": 17,
   "id": "6405025e-8832-45c2-b0f0-c10b8903581a",
   "metadata": {},
   "outputs": [],
   "source": [
    "label = \"Vandalism\"\n",
    "frames = os.listdir(f\"d:/data/UCF-crime/Anomaly-videos-frames/{label}_frames/\")\n",
    "#gen = load_images(frames, bs=1)\n",
    "path = f\"d:/data/UCF-crime/Anomaly-videos-frames/{label}_frames/\"\n",
    "desc = []\n",
    "for f in frames:\n",
    "    image = Image.open(path + f)    \n",
    "    inputs = processor(images=image, return_tensors=\"pt\").to(device, torch.float16)    \n",
    "    features = model.get_qformer_features(**inputs, return_dict=False)\n",
    "    save_features([f], features) "
   ]
  },
  {
   "cell_type": "code",
   "execution_count": 17,
   "id": "8d23f673-d8c6-43b7-b68e-2fb9cf6e743e",
   "metadata": {},
   "outputs": [
    {
     "name": "stdout",
     "output_type": "stream",
     "text": [
      "**** DONE ****\n"
     ]
    }
   ],
   "source": [
    "print(\"**** DONE ****\")"
   ]
  },
  {
   "cell_type": "code",
   "execution_count": null,
   "id": "252923fa-9b56-42ef-ad4c-2ba5bf530ee1",
   "metadata": {},
   "outputs": [],
   "source": []
  }
 ],
 "metadata": {
  "kernelspec": {
   "display_name": "Python 3 (ipykernel)",
   "language": "python",
   "name": "python3"
  },
  "language_info": {
   "codemirror_mode": {
    "name": "ipython",
    "version": 3
   },
   "file_extension": ".py",
   "mimetype": "text/x-python",
   "name": "python",
   "nbconvert_exporter": "python",
   "pygments_lexer": "ipython3",
   "version": "3.9.16"
  }
 },
 "nbformat": 4,
 "nbformat_minor": 5
}
