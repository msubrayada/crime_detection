{
 "cells": [
  {
   "cell_type": "code",
   "execution_count": 1,
   "id": "741d50af-2343-4128-bc81-ffef9b11af7d",
   "metadata": {},
   "outputs": [
    {
     "name": "stderr",
     "output_type": "stream",
     "text": [
      "C:\\Users\\msubr\\Anaconda3\\envs\\lavis\\lib\\site-packages\\tqdm\\auto.py:21: TqdmWarning: IProgress not found. Please update jupyter and ipywidgets. See https://ipywidgets.readthedocs.io/en/stable/user_install.html\n",
      "  from .autonotebook import tqdm as notebook_tqdm\n"
     ]
    }
   ],
   "source": [
    "import torch\n",
    "import numpy as np\n",
    "from PIL import Image\n",
    "import time\n",
    "import os\n",
    "from lavis.models import load_model_and_preprocess"
   ]
  },
  {
   "cell_type": "code",
   "execution_count": 4,
   "id": "6c389b56-e201-4aa4-a430-c05edb0fc648",
   "metadata": {},
   "outputs": [],
   "source": [
    "device = \"cuda\" if torch.cuda.is_available() else \"cpu\"\n",
    "model, vis_processors, txt_processors = load_model_and_preprocess(name=\"blip2_feature_extractor\", model_type=\"pretrain\", is_eval=True, device=device)"
   ]
  },
  {
   "cell_type": "code",
   "execution_count": 5,
   "id": "87c4a935-cf36-4c8d-8b20-39345f8b1832",
   "metadata": {},
   "outputs": [],
   "source": [
    "def load_images(files, bs=16):\n",
    "    init = 0\n",
    "    while(init < len(files)):\n",
    "        yield files[init:init + bs]\n",
    "        init += bs\n",
    "        \n",
    "def save_features(files, features):\n",
    "    path = f\"d:/data/UCF-crime/Anomaly-videos-frames-lavis-features/{label}/\"\n",
    "    for f, feat in zip(files, features):\n",
    "        np.save(path + f, feat.cpu().detach().numpy())\n",
    "        "
   ]
  },
  {
   "cell_type": "code",
   "execution_count": 8,
   "id": "12e421dc-6c51-4b04-9476-4f9b12ab3cd5",
   "metadata": {},
   "outputs": [],
   "source": [
    "labels = [#\"normal\", \n",
    "            \"Abuse\",\n",
    "            \"Arrest\",\n",
    "            \"Arson\",\n",
    "            \"Burglary\",\n",
    "            \"Explosion\",\n",
    "            \"Fighting\",\n",
    "            \"RoadAccidents\",\n",
    "            #\"Shooting\",\n",
    "            \"Vandalism\"]"
   ]
  },
  {
   "cell_type": "code",
   "execution_count": 9,
   "id": "4cfb6ed0-cb41-422f-8bbf-2841db0bcd22",
   "metadata": {},
   "outputs": [],
   "source": [
    "for label in labels:\n",
    "    os.mkdir(f\"d:/data/UCF-crime/Anomaly-videos-frames-lavis-features/{label}/\")"
   ]
  },
  {
   "cell_type": "code",
   "execution_count": 10,
   "id": "b1019a4b-a1e2-44bf-a1d0-931c27fa4d63",
   "metadata": {},
   "outputs": [],
   "source": [
    "for label in labels:\n",
    "    path = f\"d:/data/UCF-crime/Anomaly-videos-frames/{label}_frames/\"\n",
    "    frames = os.listdir(path)\n",
    "    #gen = load_images(frames, bs=1)\n",
    "    \n",
    "    for f in frames:\n",
    "        image = Image.open(path + f)  \n",
    "        image = vis_processors[\"eval\"](image).unsqueeze(0).to(device)\n",
    "        inputs = {\"image\": image, \"text_input\": []}\n",
    "        features = model.extract_features(inputs, mode=\"image\")\n",
    "        save_features([f], features.image_embeds[:,0,:])  "
   ]
  },
  {
   "cell_type": "code",
   "execution_count": 11,
   "id": "8d23f673-d8c6-43b7-b68e-2fb9cf6e743e",
   "metadata": {},
   "outputs": [
    {
     "name": "stdout",
     "output_type": "stream",
     "text": [
      "**** DONE ****\n"
     ]
    }
   ],
   "source": [
    "print(\"**** DONE ****\")"
   ]
  },
  {
   "cell_type": "code",
   "execution_count": null,
   "id": "51c252ae-2605-43ce-9564-9b7b47b7bb70",
   "metadata": {},
   "outputs": [],
   "source": []
  }
 ],
 "metadata": {
  "kernelspec": {
   "display_name": "Python 3 (ipykernel)",
   "language": "python",
   "name": "python3"
  },
  "language_info": {
   "codemirror_mode": {
    "name": "ipython",
    "version": 3
   },
   "file_extension": ".py",
   "mimetype": "text/x-python",
   "name": "python",
   "nbconvert_exporter": "python",
   "pygments_lexer": "ipython3",
   "version": "3.9.16"
  }
 },
 "nbformat": 4,
 "nbformat_minor": 5
}
