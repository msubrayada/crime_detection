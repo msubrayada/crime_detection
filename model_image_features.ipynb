{
 "cells": [
  {
   "cell_type": "code",
   "execution_count": 1,
   "id": "826310f1-4884-4214-87c9-63cbd4b24839",
   "metadata": {},
   "outputs": [
    {
     "name": "stderr",
     "output_type": "stream",
     "text": [
      "C:\\Users\\msubr\\Anaconda3\\envs\\bert\\lib\\site-packages\\tqdm\\auto.py:21: TqdmWarning: IProgress not found. Please update jupyter and ipywidgets. See https://ipywidgets.readthedocs.io/en/stable/user_install.html\n",
      "  from .autonotebook import tqdm as notebook_tqdm\n"
     ]
    }
   ],
   "source": [
    "import pandas as pd\n",
    "import torch\n",
    "import torch.nn as nn\n",
    "import torch.optim as optim\n",
    "import numpy as np"
   ]
  },
  {
   "cell_type": "code",
   "execution_count": 2,
   "id": "b00c3c07-5a84-472c-aaeb-596000486a6b",
   "metadata": {},
   "outputs": [],
   "source": [
    "data = pd.read_csv(\"UCF-crime-frames-descriptions-partitions.csv\")"
   ]
  },
  {
   "cell_type": "code",
   "execution_count": 3,
   "id": "c106492a-a57b-4942-a9eb-297908f45617",
   "metadata": {},
   "outputs": [
    {
     "data": {
      "text/html": [
       "<div>\n",
       "<style scoped>\n",
       "    .dataframe tbody tr th:only-of-type {\n",
       "        vertical-align: middle;\n",
       "    }\n",
       "\n",
       "    .dataframe tbody tr th {\n",
       "        vertical-align: top;\n",
       "    }\n",
       "\n",
       "    .dataframe thead th {\n",
       "        text-align: right;\n",
       "    }\n",
       "</style>\n",
       "<table border=\"1\" class=\"dataframe\">\n",
       "  <thead>\n",
       "    <tr style=\"text-align: right;\">\n",
       "      <th></th>\n",
       "      <th>Unnamed: 0</th>\n",
       "      <th>frame</th>\n",
       "      <th>directory</th>\n",
       "      <th>class</th>\n",
       "      <th>Description</th>\n",
       "      <th>partition</th>\n",
       "    </tr>\n",
       "  </thead>\n",
       "  <tbody>\n",
       "    <tr>\n",
       "      <th>0</th>\n",
       "      <td>0</td>\n",
       "      <td>Abuse001_x264.mp4_frame_000000.jpg</td>\n",
       "      <td>Abuse_frames</td>\n",
       "      <td>Normal</td>\n",
       "      <td>a man is standing in the middle of a room</td>\n",
       "      <td>train</td>\n",
       "    </tr>\n",
       "    <tr>\n",
       "      <th>1</th>\n",
       "      <td>1</td>\n",
       "      <td>Abuse001_x264.mp4_frame_000010.jpg</td>\n",
       "      <td>Abuse_frames</td>\n",
       "      <td>Normal</td>\n",
       "      <td>a man is standing in the middle of a room</td>\n",
       "      <td>train</td>\n",
       "    </tr>\n",
       "  </tbody>\n",
       "</table>\n",
       "</div>"
      ],
      "text/plain": [
       "   Unnamed: 0                               frame     directory   class  \\\n",
       "0           0  Abuse001_x264.mp4_frame_000000.jpg  Abuse_frames  Normal   \n",
       "1           1  Abuse001_x264.mp4_frame_000010.jpg  Abuse_frames  Normal   \n",
       "\n",
       "                                 Description partition  \n",
       "0  a man is standing in the middle of a room     train  \n",
       "1  a man is standing in the middle of a room     train  "
      ]
     },
     "execution_count": 3,
     "metadata": {},
     "output_type": "execute_result"
    }
   ],
   "source": [
    "data.head(2)"
   ]
  },
  {
   "cell_type": "code",
   "execution_count": 4,
   "id": "3e1b774a-e68f-4971-b154-90278723610f",
   "metadata": {},
   "outputs": [],
   "source": [
    "train = data.loc[data[\"partition\"] == \"train\"]\n",
    "val = data.loc[data[\"partition\"] == \"validation\"]\n",
    "test = data.loc[data[\"partition\"] == \"test\"]"
   ]
  },
  {
   "cell_type": "code",
   "execution_count": 5,
   "id": "7e07d8ce-99e7-4ae3-a0c1-908690252a4c",
   "metadata": {},
   "outputs": [],
   "source": [
    "labels = {\"Normal\": 0,\n",
    "          \"Abuse\": 1,\n",
    "          \"Arrest\": 2,\n",
    "          \"Arson\": 3,\n",
    "          \"Burglary\": 4,\n",
    "          \"Explosion\": 5,\n",
    "          \"Fighting\": 6,\n",
    "          \"RoadAccidents\": 7,\n",
    "          \"Shooting\": 8,\n",
    "          \"Vandalism\": 9\n",
    "         }"
   ]
  },
  {
   "cell_type": "code",
   "execution_count": 6,
   "id": "3f1dbf2f-acb4-42ad-a9d9-85f7e5e5ff61",
   "metadata": {},
   "outputs": [],
   "source": [
    "def evaluate(data):\n",
    "    with torch.no_grad():\n",
    "        d_pred = torch.zeros([len(data), 10])\n",
    "        for i in range(0, len(data), batch_size):\n",
    "            batch = data[i:i+batch_size]\n",
    "            batch = batch.to(device)\n",
    "            pred = model(batch)\n",
    "            d_pred[i:i+batch_size] = pred \n",
    "    return d_pred"
   ]
  },
  {
   "cell_type": "code",
   "execution_count": 12,
   "id": "4e35bd59-5cdd-4b39-befb-e4e90743fae4",
   "metadata": {},
   "outputs": [],
   "source": [
    "def get_data(df):\n",
    "    X = np.zeros((len(df), 1408))\n",
    "    path = \"d:/data/UCF-crime/Anomaly-Videos-frames-features\"\n",
    "    c = 0\n",
    "    for _, f in df.iterrows():\n",
    "        directory = f[\"directory\"][:-7]\n",
    "        X[c] = np.load(f\"{path}/{directory}/{f['frame']}.npy\")\n",
    "        c += 1\n",
    "    X = torch.tensor(X, dtype=torch.float32)\n",
    "    y = list(df[\"class\"])\n",
    "    y = [labels[lbl] for lbl in y]\n",
    "    y = torch.tensor(y, dtype=torch.float32)\n",
    "    return X, y"
   ]
  },
  {
   "cell_type": "code",
   "execution_count": 8,
   "id": "7ba1c36c-7e4d-4961-a19f-b81084edfb3d",
   "metadata": {},
   "outputs": [],
   "source": [
    "def get_acc(pred, target, return_sum=False):\n",
    "    s = (torch.argmax(pred, dim=1).round() == target).sum()\n",
    "    if (return_sum == True):\n",
    "        return s\n",
    "    return s/len(pred)"
   ]
  },
  {
   "cell_type": "code",
   "execution_count": 10,
   "id": "820db2f2-f595-4e7d-b65a-9e6476133d95",
   "metadata": {},
   "outputs": [],
   "source": [
    "def get_acc_per_lbl(pred, target, return_sum=False):\n",
    "    for i in range(len(labels)):\n",
    "        p = (target == i).sum()\n",
    "        t = (torch.argmax(pred, dim=1) == i).sum()\n",
    "        s = ((torch.argmax(pred, dim=1) == i) & (target == i)).sum()\n",
    "        presc = s/t\n",
    "        recall = s/p\n",
    "        print(f\"{i}, presc {s/t:.2f}, recall {s/p:.2f}, f1 {2*presc*recall/(presc+recall):.2f}\\t total {p} {list(labels.keys())[i]}\")\n",
    "    \n",
    "    return "
   ]
  },
  {
   "cell_type": "code",
   "execution_count": 13,
   "id": "af34aabb-8af6-463e-a49c-7b5a1cd08a25",
   "metadata": {},
   "outputs": [
    {
     "data": {
      "text/plain": [
       "(torch.Size([19330, 1408]), torch.Size([19330]))"
      ]
     },
     "execution_count": 13,
     "metadata": {},
     "output_type": "execute_result"
    }
   ],
   "source": [
    "V, y_val = get_data(val)\n",
    "V.shape, y_val.shape"
   ]
  },
  {
   "cell_type": "code",
   "execution_count": 14,
   "id": "269059bd-eadb-4b87-8db2-d667bda91c7d",
   "metadata": {},
   "outputs": [
    {
     "data": {
      "text/plain": [
       "(torch.Size([124145, 1408]), torch.Size([124145]))"
      ]
     },
     "execution_count": 14,
     "metadata": {},
     "output_type": "execute_result"
    }
   ],
   "source": [
    "X, y = get_data(train)\n",
    "X.shape, y.shape"
   ]
  },
  {
   "cell_type": "code",
   "execution_count": 88,
   "id": "2e4eaf38-3bd2-4721-9e0e-97a0a47701b0",
   "metadata": {},
   "outputs": [],
   "source": [
    "np.save( \"train.npy\", X.numpy())"
   ]
  },
  {
   "cell_type": "code",
   "execution_count": 89,
   "id": "5621721a-e03d-4104-8d00-7df22b5dbe47",
   "metadata": {},
   "outputs": [],
   "source": [
    "np.save( \"val.npy\", V.numpy())"
   ]
  },
  {
   "cell_type": "code",
   "execution_count": 162,
   "id": "050effd0-2cc1-4b71-b019-8a0490662ba8",
   "metadata": {},
   "outputs": [],
   "source": [
    "mean, m, M = torch.mean(X), torch.min(X), torch.max(X)"
   ]
  },
  {
   "cell_type": "code",
   "execution_count": 166,
   "id": "eaa60c57-67cb-478a-b7dd-4f2690a5772c",
   "metadata": {},
   "outputs": [],
   "source": [
    "X = (X-mean)/(M-m)"
   ]
  },
  {
   "cell_type": "code",
   "execution_count": 173,
   "id": "cd1c392c-27f4-4a8f-95f1-d17174c7cede",
   "metadata": {},
   "outputs": [],
   "source": [
    "V = (V-mean)/(M-m)"
   ]
  },
  {
   "cell_type": "code",
   "execution_count": 167,
   "id": "ba0926f8-608f-4e3f-8d1b-55fbf18e17b2",
   "metadata": {},
   "outputs": [
    {
     "data": {
      "text/plain": [
       "(tensor(2.0759e-10), tensor(0.4223), tensor(-0.5777))"
      ]
     },
     "execution_count": 167,
     "metadata": {},
     "output_type": "execute_result"
    }
   ],
   "source": [
    "torch.mean(X), torch.max(X), torch.min(X)"
   ]
  },
  {
   "cell_type": "code",
   "execution_count": 175,
   "id": "861f019e-75fa-4075-9841-b44ce07f9a2f",
   "metadata": {},
   "outputs": [
    {
     "data": {
      "text/plain": [
       "(tensor(1.1809e-05), tensor(0.3573), tensor(-0.5567))"
      ]
     },
     "execution_count": 175,
     "metadata": {},
     "output_type": "execute_result"
    }
   ],
   "source": [
    "torch.mean(V), torch.max(V), torch.min(V)"
   ]
  },
  {
   "cell_type": "code",
   "execution_count": 123,
   "id": "05d22671-ce15-4905-b548-d95e41ee42f6",
   "metadata": {},
   "outputs": [],
   "source": [
    "labels_counts = torch.tensor([(y==i).sum() for i in range(len(labels))])\n",
    "weights = 1 - labels_counts / len(X)    "
   ]
  },
  {
   "cell_type": "code",
   "execution_count": 85,
   "id": "1b6966bb-9ea8-4fe4-a471-50a07c65d61f",
   "metadata": {},
   "outputs": [],
   "source": [
    "#weights = torch.tensor([0.1, 1, 1, 1, 1, 1, 1, 1, 1, 1])"
   ]
  },
  {
   "cell_type": "code",
   "execution_count": 168,
   "id": "7596f0fd-bead-444e-af78-11907bc3b57f",
   "metadata": {},
   "outputs": [],
   "source": [
    "model = nn.Sequential(\n",
    "    nn.Linear(1408, 512),\n",
    "    nn.ReLU(),\n",
    "    nn.Linear(512, 256),\n",
    "    nn.ReLU(),\n",
    "    nn.Linear(256, 128),\n",
    "    nn.ReLU(),\n",
    "    nn.Linear(128, 10)\n",
    ")"
   ]
  },
  {
   "cell_type": "code",
   "execution_count": 169,
   "id": "4ff6051e-ae4c-4af6-b733-ce95e06d8b01",
   "metadata": {},
   "outputs": [
    {
     "data": {
      "text/plain": [
       "886922"
      ]
     },
     "execution_count": 169,
     "metadata": {},
     "output_type": "execute_result"
    }
   ],
   "source": [
    "sum(param.numel() for param in model.parameters())"
   ]
  },
  {
   "cell_type": "code",
   "execution_count": 170,
   "id": "9a97b28d-1d06-4e48-a5f4-2b09c19ec79f",
   "metadata": {},
   "outputs": [
    {
     "data": {
      "text/plain": [
       "Sequential(\n",
       "  (0): Linear(in_features=1408, out_features=512, bias=True)\n",
       "  (1): ReLU()\n",
       "  (2): Linear(in_features=512, out_features=256, bias=True)\n",
       "  (3): ReLU()\n",
       "  (4): Linear(in_features=256, out_features=128, bias=True)\n",
       "  (5): ReLU()\n",
       "  (6): Linear(in_features=128, out_features=10, bias=True)\n",
       ")"
      ]
     },
     "execution_count": 170,
     "metadata": {},
     "output_type": "execute_result"
    }
   ],
   "source": [
    "device = \"cuda\" if torch.cuda.is_available() else \"cpu\"\n",
    "model.to(device)"
   ]
  },
  {
   "cell_type": "code",
   "execution_count": 171,
   "id": "1198cbeb-a637-4fda-bf05-ffbe65cec6b5",
   "metadata": {},
   "outputs": [],
   "source": [
    "weights = weights.to(device)\n",
    "loss_fn = nn.CrossEntropyLoss(weights)  # binary cross entropy\n",
    "optimizer = optim.Adam(model.parameters(), lr=0.00001)"
   ]
  },
  {
   "cell_type": "code",
   "execution_count": 181,
   "id": "00100353-8405-4675-984d-19e797a578fe",
   "metadata": {},
   "outputs": [
    {
     "name": "stdout",
     "output_type": "stream",
     "text": [
      "Finished epoch 0, latest loss 0.48803332448005676, acc 0.8604374527931213 val_acc 0.6837040781974792\n",
      "Finished epoch 1, latest loss 0.5362734794616699, acc 0.8619195818901062 val_acc 0.6826694011688232\n",
      "Finished epoch 2, latest loss 0.6099376678466797, acc 0.8629425764083862 val_acc 0.67475426197052\n",
      "Finished epoch 3, latest loss 0.46636611223220825, acc 0.8645455241203308 val_acc 0.6749094724655151\n",
      "Finished epoch 4, latest loss 0.3988199830055237, acc 0.8654879927635193 val_acc 0.6695291996002197\n",
      "Finished epoch 5, latest loss 0.4560309648513794, acc 0.8663579225540161 val_acc 0.6674081683158875\n",
      "Finished epoch 6, latest loss 0.48931875824928284, acc 0.8678159117698669 val_acc 0.6669425964355469\n",
      "Finished epoch 7, latest loss 0.29093995690345764, acc 0.8689113855361938 val_acc 0.6608898043632507\n",
      "Finished epoch 8, latest loss 0.2862897217273712, acc 0.8702002167701721 val_acc 0.6582514047622681\n",
      "Finished epoch 9, latest loss 0.3907463848590851, acc 0.8709332346916199 val_acc 0.6590791344642639\n",
      "Finished epoch 10, latest loss 0.39096730947494507, acc 0.8724797964096069 val_acc 0.6568028926849365\n",
      "Finished epoch 11, latest loss 0.4311293959617615, acc 0.8733658790588379 val_acc 0.6545783877372742\n",
      "Finished epoch 12, latest loss 0.34501469135284424, acc 0.874638557434082 val_acc 0.6510605216026306\n",
      "Finished epoch 13, latest loss 0.4658673107624054, acc 0.8752104640007019 val_acc 0.6493533253669739\n",
      "Finished epoch 14, latest loss 0.32985812425613403, acc 0.8769423365592957 val_acc 0.6556130647659302\n",
      "Finished epoch 15, latest loss 0.37684229016304016, acc 0.8767731785774231 val_acc 0.6433005928993225\n",
      "Finished epoch 16, latest loss 0.6306166052818298, acc 0.8781828284263611 val_acc 0.6405587196350098\n",
      "Finished epoch 17, latest loss 0.4376942813396454, acc 0.8793104887008667 val_acc 0.6427832245826721\n",
      "Finished epoch 18, latest loss 0.450019508600235, acc 0.8801401853561401 val_acc 0.6361613869667053\n",
      "Finished epoch 19, latest loss 0.42373278737068176, acc 0.8810584545135498 val_acc 0.635023295879364\n",
      "Finished epoch 20, latest loss 0.442343145608902, acc 0.8820814490318298 val_acc 0.6384893655776978\n",
      "Finished epoch 21, latest loss 0.2850554585456848, acc 0.8825969696044922 val_acc 0.6381790041923523\n",
      "Finished epoch 22, latest loss 0.33572885394096375, acc 0.8838294148445129 val_acc 0.6405587196350098\n",
      "Finished epoch 23, latest loss 0.3089336156845093, acc 0.8846752047538757 val_acc 0.6349198222160339\n",
      "Finished epoch 24, latest loss 0.43163058161735535, acc 0.8855854272842407 val_acc 0.6263321042060852\n",
      "Finished epoch 25, latest loss 0.3463181257247925, acc 0.8864151239395142 val_acc 0.6263838410377502\n",
      "Finished epoch 26, latest loss 0.36926695704460144, acc 0.8870192170143127 val_acc 0.6318158507347107\n",
      "Finished epoch 27, latest loss 0.4335882067680359, acc 0.8883322477340698 val_acc 0.6290222406387329\n",
      "Finished epoch 28, latest loss 0.22663933038711548, acc 0.8887994289398193 val_acc 0.624262809753418\n",
      "Finished epoch 29, latest loss 0.3675590455532074, acc 0.8891216516494751 val_acc 0.6338334083557129\n"
     ]
    }
   ],
   "source": [
    "n_epochs = 30\n",
    "batch_size = 128\n",
    "for epoch in range(n_epochs):\n",
    "    acc = 0\n",
    "    perm = torch.randperm(len(X))\n",
    "    for i in range(0, len(X), batch_size):\n",
    "        Xbatch = X[perm[i:i+batch_size]]\n",
    "        Xbatch = Xbatch.to(device)\n",
    "        y_pred = model(Xbatch)\n",
    "        ybatch = y[perm[i:i+batch_size]]\n",
    "        ybatch = ybatch.type(torch.LongTensor)\n",
    "        ybatch = ybatch.to(device)\n",
    "        loss = loss_fn(y_pred, ybatch)\n",
    "        optimizer.zero_grad()\n",
    "        loss.backward()\n",
    "        optimizer.step()\n",
    "        acc += get_acc(y_pred, ybatch, return_sum=True)\n",
    "    val_pred = evaluate(V)\n",
    "        \n",
    "    print(f'Finished epoch {epoch}, latest loss {loss}, acc {acc/len(X)} val_acc {get_acc(val_pred, y_val)}')"
   ]
  },
  {
   "cell_type": "code",
   "execution_count": 182,
   "id": "9a8ced25-906e-4b73-8b2c-49281d851372",
   "metadata": {},
   "outputs": [
    {
     "name": "stdout",
     "output_type": "stream",
     "text": [
      "0, presc 0.76, recall 0.86, f1 0.81\t total 12895 Normal\n",
      "1, presc 0.28, recall 0.32, f1 0.30\t total 646 Abuse\n",
      "2, presc 0.61, recall 0.06, f1 0.11\t total 1321 Arrest\n",
      "3, presc 0.15, recall 0.88, f1 0.26\t total 106 Arson\n",
      "4, presc 0.25, recall 0.14, f1 0.18\t total 1767 Burglary\n",
      "5, presc 0.56, recall 0.04, f1 0.07\t total 388 Explosion\n",
      "6, presc 0.47, recall 0.15, f1 0.23\t total 1132 Fighting\n",
      "7, presc 0.00, recall 0.00, f1 nan\t total 12 RoadAccidents\n",
      "8, presc 0.00, recall 0.05, f1 0.00\t total 44 Shooting\n",
      "9, presc 0.42, recall 0.28, f1 0.34\t total 1019 Vandalism\n"
     ]
    }
   ],
   "source": [
    "get_acc_per_lbl(val_pred, y_val)"
   ]
  },
  {
   "cell_type": "code",
   "execution_count": 183,
   "id": "b2efe902-a78a-4914-bac7-219b2785cff0",
   "metadata": {},
   "outputs": [
    {
     "data": {
      "text/plain": [
       "tensor(0.6338)"
      ]
     },
     "execution_count": 183,
     "metadata": {},
     "output_type": "execute_result"
    }
   ],
   "source": [
    "get_acc(val_pred, y_val)"
   ]
  },
  {
   "cell_type": "code",
   "execution_count": 184,
   "id": "9f01c9b7-0770-4f46-a395-91706bb33e07",
   "metadata": {},
   "outputs": [],
   "source": [
    "X_pred = evaluate(X)"
   ]
  },
  {
   "cell_type": "code",
   "execution_count": 185,
   "id": "1539ce64-a1e9-4929-a4b9-61f66a8f5749",
   "metadata": {},
   "outputs": [
    {
     "name": "stdout",
     "output_type": "stream",
     "text": [
      "0, presc 0.95, recall 0.89, f1 0.92\t total 84684 Normal\n",
      "1, presc 0.60, recall 0.73, f1 0.66\t total 2593 Abuse\n",
      "2, presc 0.86, recall 0.98, f1 0.92\t total 10454 Arrest\n",
      "3, presc 0.83, recall 0.96, f1 0.89\t total 4984 Arson\n",
      "4, presc 0.84, recall 0.96, f1 0.90\t total 8211 Burglary\n",
      "5, presc 0.72, recall 0.86, f1 0.78\t total 2138 Explosion\n",
      "6, presc 0.69, recall 0.90, f1 0.78\t total 6178 Fighting\n",
      "7, presc 0.47, recall 0.03, f1 0.06\t total 689 RoadAccidents\n",
      "8, presc 0.55, recall 0.41, f1 0.47\t total 1568 Shooting\n",
      "9, presc 0.71, recall 0.85, f1 0.78\t total 2646 Vandalism\n"
     ]
    }
   ],
   "source": [
    "get_acc_per_lbl(X_pred, y)"
   ]
  },
  {
   "cell_type": "code",
   "execution_count": 186,
   "id": "044126f5-bd08-4131-a342-e89e1cd35f98",
   "metadata": {},
   "outputs": [
    {
     "data": {
      "text/plain": [
       "tensor(0.8884)"
      ]
     },
     "execution_count": 186,
     "metadata": {},
     "output_type": "execute_result"
    }
   ],
   "source": [
    "get_acc(X_pred, y)"
   ]
  },
  {
   "cell_type": "code",
   "execution_count": 187,
   "id": "2c69b356-e24e-442f-be70-bf0dbb3813c0",
   "metadata": {},
   "outputs": [],
   "source": [
    "torch.save(model.state_dict(), \"model_image_features\")"
   ]
  },
  {
   "cell_type": "code",
   "execution_count": null,
   "id": "f1882883-afba-42a5-9acf-fd48fbc097da",
   "metadata": {},
   "outputs": [],
   "source": []
  }
 ],
 "metadata": {
  "kernelspec": {
   "display_name": "Python 3 (ipykernel)",
   "language": "python",
   "name": "python3"
  },
  "language_info": {
   "codemirror_mode": {
    "name": "ipython",
    "version": 3
   },
   "file_extension": ".py",
   "mimetype": "text/x-python",
   "name": "python",
   "nbconvert_exporter": "python",
   "pygments_lexer": "ipython3",
   "version": "3.10.11"
  }
 },
 "nbformat": 4,
 "nbformat_minor": 5
}
