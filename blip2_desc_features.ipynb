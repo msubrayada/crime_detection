{
 "cells": [
  {
   "cell_type": "code",
   "execution_count": 1,
   "id": "741d50af-2343-4128-bc81-ffef9b11af7d",
   "metadata": {},
   "outputs": [
    {
     "name": "stderr",
     "output_type": "stream",
     "text": [
      "C:\\Users\\msubr\\Anaconda3\\envs\\bert\\lib\\site-packages\\tqdm\\auto.py:21: TqdmWarning: IProgress not found. Please update jupyter and ipywidgets. See https://ipywidgets.readthedocs.io/en/stable/user_install.html\n",
      "  from .autonotebook import tqdm as notebook_tqdm\n"
     ]
    }
   ],
   "source": [
    "import torch\n",
    "import numpy as np\n",
    "from transformers import AutoTokenizer, Blip2Model\n",
    "from PIL import Image\n",
    "import time\n",
    "import json\n"
   ]
  },
  {
   "cell_type": "code",
   "execution_count": 2,
   "id": "52b0c5c3-30a2-47d0-8163-7ecdccae5239",
   "metadata": {},
   "outputs": [
    {
     "name": "stderr",
     "output_type": "stream",
     "text": [
      "Loading checkpoint shards: 100%|████████████████████████████████████████████████████████████████████████████████| 2/2 [00:08<00:00,  4.17s/it]\n"
     ]
    }
   ],
   "source": [
    "processor = AutoTokenizer.from_pretrained(\"Salesforce/blip2-opt-2.7b\")\n",
    "# by default `from_pretrained` loads the weights in float32\n",
    "# we load in float16 instead to save memory\n",
    "model = Blip2Model.from_pretrained(\"Salesforce/blip2-opt-2.7b\", torch_dtype=torch.float16)"
   ]
  },
  {
   "cell_type": "code",
   "execution_count": 3,
   "id": "4061cce0-e45f-407d-afaf-eb6d7a509b39",
   "metadata": {},
   "outputs": [
    {
     "name": "stdout",
     "output_type": "stream",
     "text": [
      "cuda\n"
     ]
    }
   ],
   "source": [
    "device = \"cuda\" if torch.cuda.is_available() else \"cpu\"\n",
    "model.to(device)\n",
    "print(device)"
   ]
  },
  {
   "cell_type": "code",
   "execution_count": 4,
   "id": "87c4a935-cf36-4c8d-8b20-39345f8b1832",
   "metadata": {},
   "outputs": [],
   "source": [
    "def load_images(files, bs=16):\n",
    "    init = 0\n",
    "    while(init < len(files)):\n",
    "        yield files[init:init + bs]\n",
    "        init += bs\n",
    "        \n",
    "def save_features(files, features):\n",
    "    path = f\"d:/data/UCF-crime/Anomaly-videos-description-features/{label}/\"\n",
    "    np.save(path + f, features.cpu().detach().numpy())\n",
    "        "
   ]
  },
  {
   "cell_type": "code",
   "execution_count": 9,
   "id": "d62ea1eb-950e-43e8-a838-bb4deea81870",
   "metadata": {},
   "outputs": [],
   "source": [
    "label = \"Vandalism\"\n",
    "with open(f\"desc-{label}.txt\", 'r') as f:\n",
    "    descriptions = json.load(f)\n"
   ]
  },
  {
   "cell_type": "code",
   "execution_count": 10,
   "id": "cef1c8d3-ceff-4b4f-a487-e07cd931a814",
   "metadata": {},
   "outputs": [],
   "source": [
    "for f, desc in descriptions:\n",
    "    inputs = processor([desc[0][0:-1]], padding=True, return_tensors=\"pt\").to(device)    \n",
    "    features = text_features = model.get_text_features(**inputs, return_dict=True)\n",
    "    T = torch.permute(features['past_key_values'][-1][0], (0, 2, 1, 3))\n",
    "    T = torch.reshape(T, (1, -1, 32*80))\n",
    "    save_features([f], T)  "
   ]
  },
  {
   "cell_type": "code",
   "execution_count": null,
   "id": "252923fa-9b56-42ef-ad4c-2ba5bf530ee1",
   "metadata": {},
   "outputs": [],
   "source": []
  }
 ],
 "metadata": {
  "kernelspec": {
   "display_name": "Python 3 (ipykernel)",
   "language": "python",
   "name": "python3"
  },
  "language_info": {
   "codemirror_mode": {
    "name": "ipython",
    "version": 3
   },
   "file_extension": ".py",
   "mimetype": "text/x-python",
   "name": "python",
   "nbconvert_exporter": "python",
   "pygments_lexer": "ipython3",
   "version": "3.9.16"
  }
 },
 "nbformat": 4,
 "nbformat_minor": 5
}
