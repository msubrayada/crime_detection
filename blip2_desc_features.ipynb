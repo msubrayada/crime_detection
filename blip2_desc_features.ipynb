{
 "cells": [
  {
   "cell_type": "code",
   "execution_count": 1,
   "id": "741d50af-2343-4128-bc81-ffef9b11af7d",
   "metadata": {},
   "outputs": [
    {
     "name": "stderr",
     "output_type": "stream",
     "text": [
      "C:\\Users\\msubr\\Anaconda3\\envs\\bert\\lib\\site-packages\\tqdm\\auto.py:21: TqdmWarning: IProgress not found. Please update jupyter and ipywidgets. See https://ipywidgets.readthedocs.io/en/stable/user_install.html\n",
      "  from .autonotebook import tqdm as notebook_tqdm\n"
     ]
    }
   ],
   "source": [
    "import torch\n",
    "import numpy as np\n",
    "from transformers import AutoTokenizer, Blip2Model\n",
    "from PIL import Image\n",
    "import time\n",
    "import json"
   ]
  },
  {
   "cell_type": "code",
   "execution_count": 2,
   "id": "52b0c5c3-30a2-47d0-8163-7ecdccae5239",
   "metadata": {},
   "outputs": [
    {
     "name": "stderr",
     "output_type": "stream",
     "text": [
      "Loading checkpoint shards: 100%|███████████████████████████████████████████████████████████████████████████████████████████████████████████████████████████████████| 2/2 [00:08<00:00,  4.06s/it]\n"
     ]
    }
   ],
   "source": [
    "processor = AutoTokenizer.from_pretrained(\"Salesforce/blip2-opt-2.7b\")\n",
    "# by default `from_pretrained` loads the weights in float32\n",
    "# we load in float16 instead to save memory\n",
    "model = Blip2Model.from_pretrained(\"Salesforce/blip2-opt-2.7b\", torch_dtype=torch.float16)"
   ]
  },
  {
   "cell_type": "code",
   "execution_count": 3,
   "id": "4061cce0-e45f-407d-afaf-eb6d7a509b39",
   "metadata": {},
   "outputs": [
    {
     "name": "stdout",
     "output_type": "stream",
     "text": [
      "cuda\n"
     ]
    }
   ],
   "source": [
    "device = \"cuda\" if torch.cuda.is_available() else \"cpu\"\n",
    "model.to(device)\n",
    "print(device)"
   ]
  },
  {
   "cell_type": "code",
   "execution_count": 15,
   "id": "87c4a935-cf36-4c8d-8b20-39345f8b1832",
   "metadata": {},
   "outputs": [],
   "source": [
    "def save_features(files, features, label):\n",
    "    if MEAN_ONLY == True:\n",
    "        path = f\"d:/data/UCF-crime/Anomaly-videos-description-features-mean/{label}/\"\n",
    "    else:\n",
    "        path = f\"d:/data/UCF-crime/Anomaly-videos-description-features/{label}/\"\n",
    "        \n",
    "    np.save(path + f, features.cpu().detach().numpy())\n",
    "        "
   ]
  },
  {
   "cell_type": "code",
   "execution_count": 11,
   "id": "7d98ce51-5dbf-47b2-9436-076bf1ab4279",
   "metadata": {},
   "outputs": [],
   "source": [
    "MEAN_ONLY = True"
   ]
  },
  {
   "cell_type": "code",
   "execution_count": 17,
   "id": "7cf7c8b1-d4d2-479f-80b0-090bb88e7ac9",
   "metadata": {},
   "outputs": [],
   "source": [
    "CLASS_LABELS = [\"Abuse\",\n",
    "                \"Arrest\",\n",
    "                \"Arson\",\n",
    "                \"Burglary\",\n",
    "                \"Explosion\",\n",
    "                \"Fighting\",\n",
    "                \"RoadAccidents\",\n",
    "                \"Shooting\",\n",
    "                #\"Vandalism\"\n",
    "               ]\n",
    "for c in CLASS_LABELS:\n",
    "    with open(f\"descriptions/desc-{c}.txt\", 'r') as f:\n",
    "        descriptions = json.load(f)\n",
    "    for f, desc in descriptions:\n",
    "        inputs = processor([desc[0][0:-1]], padding=True, return_tensors=\"pt\").to(device)    \n",
    "        T = model.get_text_features(**inputs, return_dict=True)    \n",
    "        T = torch.permute(T['past_key_values'][-1][1], (0, 2, 1, 3)).cpu().detach()\n",
    "        T = torch.reshape(T, (1, -1, 32*80))\n",
    "        if MEAN_ONLY == True:\n",
    "            mask = inputs[\"attention_mask\"].cpu().detach()\n",
    "            T = T * torch.unsqueeze(mask, dim=-1)\n",
    "            T = torch.sum(T, dim=1) / torch.unsqueeze(torch.sum(mask, dim=1), dim=1)\n",
    "            T /= torch.norm(T)    \n",
    "        save_features([f], T, c) \n"
   ]
  },
  {
   "cell_type": "code",
   "execution_count": null,
   "id": "51d220ca-7ca4-4aa7-a2e0-8b5ffd673724",
   "metadata": {},
   "outputs": [],
   "source": []
  }
 ],
 "metadata": {
  "kernelspec": {
   "display_name": "Python 3 (ipykernel)",
   "language": "python",
   "name": "python3"
  },
  "language_info": {
   "codemirror_mode": {
    "name": "ipython",
    "version": 3
   },
   "file_extension": ".py",
   "mimetype": "text/x-python",
   "name": "python",
   "nbconvert_exporter": "python",
   "pygments_lexer": "ipython3",
   "version": "3.9.16"
  }
 },
 "nbformat": 4,
 "nbformat_minor": 5
}
