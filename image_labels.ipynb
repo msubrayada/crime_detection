{
 "cells": [
  {
   "cell_type": "code",
   "execution_count": 1,
   "id": "353cf1f7-bc1e-4318-9d08-63d5a4f712c6",
   "metadata": {},
   "outputs": [],
   "source": [
    "import pandas as pd\n",
    "import os\n",
    "import numpy as np"
   ]
  },
  {
   "cell_type": "code",
   "execution_count": 2,
   "id": "3e77d501-f298-44a4-a010-c43177f7874e",
   "metadata": {},
   "outputs": [],
   "source": [
    "videos = pd.read_csv(\"d:/data/UCF-crime/Labeling.csv\")\n",
    "path = \"d:/data/UCF-crime\""
   ]
  },
  {
   "cell_type": "code",
   "execution_count": 3,
   "id": "5727f0c4-5910-4094-a29e-89224db30399",
   "metadata": {},
   "outputs": [],
   "source": [
    "frame_skip = 10"
   ]
  },
  {
   "cell_type": "code",
   "execution_count": 4,
   "id": "cca7beb3-b1e9-4764-8aaf-0eaff5652c39",
   "metadata": {},
   "outputs": [],
   "source": [
    "classes = [\"Abuse\", \"Arrest\", \"Arson\", \"Assault\", \n",
    "           \"Burglary\", \"Explosion\", \"Fighting\",\n",
    "           \"RoadAccidents\", \"Robbery\", \"Shooting\", \n",
    "           \"Shoplifting\", \"Stealing\", \"Vandalism\"]\n",
    "directory = [\"Anomaly-Videos-Part-1\", \"Anomaly-Videos-Part-1\", \"Anomaly-Videos-Part-1\", \"Anomaly-Videos-Part-1\",\n",
    "             \"Anomaly-Videos-Part-2\", \"Anomaly-Videos-Part-2\", \"Anomaly-Videos-Part-2\",\n",
    "             \"Anomaly-Videos-Part-3\", \"Anomaly-Videos-Part-3\", \"Anomaly-Videos-Part-3\", \n",
    "             \"Anomaly-Videos-Part-4\", \"Anomaly-Videos-Part-4\", \"Anomaly-Videos-Part-4\"]"
   ]
  },
  {
   "cell_type": "code",
   "execution_count": 7,
   "id": "96ac84d8-a617-41cb-a321-147b12d6b768",
   "metadata": {},
   "outputs": [],
   "source": [
    "frames_files = {}\n",
    "for c, d in zip(classes, directory):\n",
    "    frames_files[c] = os.listdir(f\"{path}/Anomaly-Videos-frames/{c}_frames/\")"
   ]
  },
  {
   "cell_type": "code",
   "execution_count": 8,
   "id": "b59c7b68-baeb-41f3-8957-e0617f73dad8",
   "metadata": {},
   "outputs": [],
   "source": [
    "def put_marks(files, label, init1, end1, init2, end2):\n",
    "    marks = []\n",
    "    for f in files:\n",
    "        frame_num = int(f[-10:-4])\n",
    "        if (frame_num > init1 and frame_num < end1):\n",
    "            marks.append(label)\n",
    "        elif (frame_num > init2 and frame_num < end2):\n",
    "            marks.append(label)\n",
    "        else:\n",
    "            marks.append(\"Normal\")\n",
    "            \n",
    "    return marks\n",
    "    "
   ]
  },
  {
   "cell_type": "code",
   "execution_count": 12,
   "id": "f15f88d9-9b42-4873-8d09-4abcba63f23d",
   "metadata": {},
   "outputs": [
    {
     "name": "stderr",
     "output_type": "stream",
     "text": [
      "C:\\Users\\msubr\\AppData\\Local\\Temp\\ipykernel_16148\\3114927641.py:10: FutureWarning: elementwise comparison failed; returning scalar instead, but in the future will perform elementwise comparison\n",
      "  pos = np.where(fns==f)\n"
     ]
    }
   ],
   "source": [
    "data = {\"frame\":[], \"directory\":[], \"class\":[]}\n",
    "for idx, v in videos.iterrows():\n",
    "    c = v[\"label\"]\n",
    "    f = v[\"file\"]\n",
    "    init1 = v[\"init1\"]\n",
    "    end1 = v[\"end1\"]\n",
    "    init2 = v[\"init2\"]\n",
    "    end2 = v[\"end2\"]\n",
    "    fns = np.array([fn[0:len(f)] for fn in frames_files[c]])\n",
    "    pos = np.where(fns==f)\n",
    "    files = np.array(frames_files[c])[pos]\n",
    "    labels = put_marks(files, c, init1, end1, init2, end2)\n",
    "    \n",
    "    \n",
    "    data[\"frame\"] += list(files)\n",
    "    data[\"directory\"] += [c + \"_frames\"] * len(files)\n",
    "    data[\"class\"] += list(labels)"
   ]
  },
  {
   "cell_type": "code",
   "execution_count": 13,
   "id": "1b3b1886-064e-40d9-afb2-932edad35539",
   "metadata": {},
   "outputs": [],
   "source": [
    "frames_data = pd.DataFrame(data=data)"
   ]
  },
  {
   "cell_type": "code",
   "execution_count": 1,
   "id": "2fa5a319-bb11-40f5-9866-420c7a77a316",
   "metadata": {},
   "outputs": [
    {
     "ename": "NameError",
     "evalue": "name 'frames_data' is not defined",
     "output_type": "error",
     "traceback": [
      "\u001b[1;31m---------------------------------------------------------------------------\u001b[0m",
      "\u001b[1;31mNameError\u001b[0m                                 Traceback (most recent call last)",
      "Cell \u001b[1;32mIn[1], line 1\u001b[0m\n\u001b[1;32m----> 1\u001b[0m \u001b[43mframes_data\u001b[49m\u001b[38;5;241m.\u001b[39mto_csv(\u001b[38;5;124m'\u001b[39m\u001b[38;5;124mUCF-crime-frames.csv\u001b[39m\u001b[38;5;124m'\u001b[39m, index\u001b[38;5;241m=\u001b[39m\u001b[38;5;28;01mFalse\u001b[39;00m)\n",
      "\u001b[1;31mNameError\u001b[0m: name 'frames_data' is not defined"
     ]
    }
   ],
   "source": [
    "frames_data.to_csv('UCF-crime-frames.csv')  "
   ]
  },
  {
   "cell_type": "code",
   "execution_count": null,
   "id": "3b39af1e-0fb2-4094-a7aa-6bc0e3a322aa",
   "metadata": {},
   "outputs": [],
   "source": []
  }
 ],
 "metadata": {
  "kernelspec": {
   "display_name": "Python 3 (ipykernel)",
   "language": "python",
   "name": "python3"
  },
  "language_info": {
   "codemirror_mode": {
    "name": "ipython",
    "version": 3
   },
   "file_extension": ".py",
   "mimetype": "text/x-python",
   "name": "python",
   "nbconvert_exporter": "python",
   "pygments_lexer": "ipython3",
   "version": "3.9.16"
  }
 },
 "nbformat": 4,
 "nbformat_minor": 5
}
