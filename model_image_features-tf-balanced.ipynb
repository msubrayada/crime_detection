{
 "cells": [
  {
   "cell_type": "code",
   "execution_count": 1,
   "id": "826310f1-4884-4214-87c9-63cbd4b24839",
   "metadata": {},
   "outputs": [],
   "source": [
    "import pandas as pd\n",
    "from tensorflow.keras.layers import Dense, Dropout\n",
    "from tensorflow.keras.models import Sequential\n",
    "from tensorflow.keras.optimizers import Adam\n",
    "from tensorflow.keras.utils import to_categorical\n",
    "from sklearn.metrics import classification_report\n",
    "import numpy as np\n",
    "import tensorflow as tf"
   ]
  },
  {
   "cell_type": "code",
   "execution_count": 2,
   "id": "b00c3c07-5a84-472c-aaeb-596000486a6b",
   "metadata": {},
   "outputs": [],
   "source": [
    "data = pd.read_csv(\"UCF-crime-frames-descriptions-partitions.csv\")"
   ]
  },
  {
   "cell_type": "code",
   "execution_count": 3,
   "id": "c106492a-a57b-4942-a9eb-297908f45617",
   "metadata": {},
   "outputs": [
    {
     "data": {
      "text/html": [
       "<div>\n",
       "<style scoped>\n",
       "    .dataframe tbody tr th:only-of-type {\n",
       "        vertical-align: middle;\n",
       "    }\n",
       "\n",
       "    .dataframe tbody tr th {\n",
       "        vertical-align: top;\n",
       "    }\n",
       "\n",
       "    .dataframe thead th {\n",
       "        text-align: right;\n",
       "    }\n",
       "</style>\n",
       "<table border=\"1\" class=\"dataframe\">\n",
       "  <thead>\n",
       "    <tr style=\"text-align: right;\">\n",
       "      <th></th>\n",
       "      <th>Unnamed: 0</th>\n",
       "      <th>frame</th>\n",
       "      <th>directory</th>\n",
       "      <th>class</th>\n",
       "      <th>Description</th>\n",
       "      <th>partition</th>\n",
       "    </tr>\n",
       "  </thead>\n",
       "  <tbody>\n",
       "    <tr>\n",
       "      <th>0</th>\n",
       "      <td>0</td>\n",
       "      <td>Abuse001_x264.mp4_frame_000000.jpg</td>\n",
       "      <td>Abuse_frames</td>\n",
       "      <td>Normal</td>\n",
       "      <td>a man is standing in the middle of a room</td>\n",
       "      <td>train</td>\n",
       "    </tr>\n",
       "    <tr>\n",
       "      <th>1</th>\n",
       "      <td>1</td>\n",
       "      <td>Abuse001_x264.mp4_frame_000010.jpg</td>\n",
       "      <td>Abuse_frames</td>\n",
       "      <td>Normal</td>\n",
       "      <td>a man is standing in the middle of a room</td>\n",
       "      <td>train</td>\n",
       "    </tr>\n",
       "  </tbody>\n",
       "</table>\n",
       "</div>"
      ],
      "text/plain": [
       "   Unnamed: 0                               frame     directory   class  \\\n",
       "0           0  Abuse001_x264.mp4_frame_000000.jpg  Abuse_frames  Normal   \n",
       "1           1  Abuse001_x264.mp4_frame_000010.jpg  Abuse_frames  Normal   \n",
       "\n",
       "                                 Description partition  \n",
       "0  a man is standing in the middle of a room     train  \n",
       "1  a man is standing in the middle of a room     train  "
      ]
     },
     "execution_count": 3,
     "metadata": {},
     "output_type": "execute_result"
    }
   ],
   "source": [
    "data.head(2)"
   ]
  },
  {
   "cell_type": "code",
   "execution_count": 4,
   "id": "ed84b1d1-30a5-4090-89a5-f425cdc3a17b",
   "metadata": {},
   "outputs": [],
   "source": [
    "train_normal = data.loc[(data[\"partition\"] == \"train\") & (data[\"class\"] == \"Normal\")]\n",
    "train_abnormal = data.loc[(data[\"partition\"] == \"train\") & (data[\"class\"] != \"Normal\")]"
   ]
  },
  {
   "cell_type": "code",
   "execution_count": 5,
   "id": "fab18aeb-f8b4-4791-bdfd-2acfaa2f7c4f",
   "metadata": {},
   "outputs": [],
   "source": [
    "val_normal = data.loc[(data[\"partition\"] == \"validation\") & (data[\"class\"] == \"Normal\")]\n",
    "val_abnormal = data.loc[(data[\"partition\"] == \"validation\") & (data[\"class\"] != \"Normal\")]"
   ]
  },
  {
   "cell_type": "code",
   "execution_count": 6,
   "id": "cafa4027-b758-4341-94ec-aeca22842384",
   "metadata": {},
   "outputs": [
    {
     "data": {
      "text/plain": [
       "((84684, 6), (39461, 6))"
      ]
     },
     "execution_count": 6,
     "metadata": {},
     "output_type": "execute_result"
    }
   ],
   "source": [
    "train_normal.shape, train_abnormal.shape"
   ]
  },
  {
   "cell_type": "code",
   "execution_count": 7,
   "id": "ceee9bb0-5ab5-4931-a5f3-251546ec3af3",
   "metadata": {},
   "outputs": [
    {
     "data": {
      "text/plain": [
       "((12895, 6), (6435, 6))"
      ]
     },
     "execution_count": 7,
     "metadata": {},
     "output_type": "execute_result"
    }
   ],
   "source": [
    "val_normal.shape, val_abnormal.shape"
   ]
  },
  {
   "cell_type": "code",
   "execution_count": 53,
   "id": "98f29f90-866a-45b4-a504-99e07a0836ed",
   "metadata": {},
   "outputs": [],
   "source": [
    "train = pd.concat([train_normal[0:2593], train_abnormal])\n",
    "val = pd.concat([val_normal[0:646], val_abnormal])"
   ]
  },
  {
   "cell_type": "code",
   "execution_count": 54,
   "id": "945604e3-17d6-4ade-ab35-5cc4ce878f01",
   "metadata": {},
   "outputs": [],
   "source": [
    "def get_data(df):\n",
    "    X = np.zeros((len(df), 1408))\n",
    "    path = \"d:/data/UCF-crime/Anomaly-Videos-frames-features\"\n",
    "    c = 0\n",
    "    for _, f in df.iterrows():\n",
    "        directory = f[\"directory\"][:-7]\n",
    "        X[c] = np.load(f\"{path}/{directory}/{f['frame']}.npy\")\n",
    "        c += 1    \n",
    "    y = list(df[\"class\"])\n",
    "    y = [labels[lbl] for lbl in y]    \n",
    "    return X, np.array(y)"
   ]
  },
  {
   "cell_type": "code",
   "execution_count": 55,
   "id": "7e07d8ce-99e7-4ae3-a0c1-908690252a4c",
   "metadata": {},
   "outputs": [],
   "source": [
    "labels = {\"Normal\": 0,\n",
    "          \"Abuse\": 1,\n",
    "          \"Arrest\": 2,\n",
    "          \"Arson\": 3,\n",
    "          \"Burglary\": 4,\n",
    "          \"Explosion\": 5,\n",
    "          \"Fighting\": 6,\n",
    "          \"RoadAccidents\": 7,\n",
    "          \"Shooting\": 8,\n",
    "          \"Vandalism\": 9\n",
    "         }"
   ]
  },
  {
   "cell_type": "code",
   "execution_count": 92,
   "id": "5621721a-e03d-4104-8d00-7df22b5dbe47",
   "metadata": {},
   "outputs": [],
   "source": [
    "V, y_val = get_data(val)"
   ]
  },
  {
   "cell_type": "code",
   "execution_count": 93,
   "id": "af34aabb-8af6-463e-a49c-7b5a1cd08a25",
   "metadata": {},
   "outputs": [
    {
     "data": {
      "text/plain": [
       "((1292, 1408), (1292,))"
      ]
     },
     "execution_count": 93,
     "metadata": {},
     "output_type": "execute_result"
    }
   ],
   "source": [
    "V.shape, y_val.shape"
   ]
  },
  {
   "cell_type": "code",
   "execution_count": 94,
   "id": "2e4eaf38-3bd2-4721-9e0e-97a0a47701b0",
   "metadata": {},
   "outputs": [],
   "source": [
    "X, y = get_data(train)"
   ]
  },
  {
   "cell_type": "code",
   "execution_count": 95,
   "id": "269059bd-eadb-4b87-8db2-d667bda91c7d",
   "metadata": {},
   "outputs": [
    {
     "data": {
      "text/plain": [
       "((5186, 1408), (5186,))"
      ]
     },
     "execution_count": 95,
     "metadata": {},
     "output_type": "execute_result"
    }
   ],
   "source": [
    "X.shape, y.shape"
   ]
  },
  {
   "cell_type": "code",
   "execution_count": 60,
   "id": "9b989804-f5d1-4772-a2c1-d88cdf9ec7be",
   "metadata": {},
   "outputs": [],
   "source": [
    "m, M, mean = tf.reduce_min(X), tf.reduce_max(X), tf.reduce_mean(X)\n",
    "X = (X-mean)/(M-m)\n",
    "V = (V-mean)/(M-m)"
   ]
  },
  {
   "cell_type": "code",
   "execution_count": 96,
   "id": "c19f22fa-62ee-4a6c-a43c-b5ed70e65ae6",
   "metadata": {},
   "outputs": [
    {
     "data": {
      "text/plain": [
       "(<tf.Tensor: shape=(), dtype=float64, numpy=-19.09375>,\n",
       " <tf.Tensor: shape=(), dtype=float64, numpy=12.328125>,\n",
       " <tf.Tensor: shape=(), dtype=float64, numpy=-0.0017183497589734168>)"
      ]
     },
     "execution_count": 96,
     "metadata": {},
     "output_type": "execute_result"
    }
   ],
   "source": [
    "tf.reduce_min(X), tf.reduce_max(X), tf.reduce_mean(X)"
   ]
  },
  {
   "cell_type": "code",
   "execution_count": 97,
   "id": "d765c003-ed86-4886-a571-824694de7e89",
   "metadata": {},
   "outputs": [
    {
     "data": {
      "text/plain": [
       "(<tf.Tensor: shape=(), dtype=float64, numpy=-18.03125>,\n",
       " <tf.Tensor: shape=(), dtype=float64, numpy=11.6328125>,\n",
       " <tf.Tensor: shape=(), dtype=float64, numpy=-0.00029143080352670564>)"
      ]
     },
     "execution_count": 97,
     "metadata": {},
     "output_type": "execute_result"
    }
   ],
   "source": [
    "tf.reduce_min(V), tf.reduce_max(V), tf.reduce_mean(V)"
   ]
  },
  {
   "cell_type": "code",
   "execution_count": 16,
   "id": "f5b2245e-b1d6-4f32-83d0-8ae55b1ed418",
   "metadata": {},
   "outputs": [],
   "source": [
    "from sklearn.utils import class_weight\n",
    "_, _, counts = tf.unique_with_counts(y)\n",
    "weights = class_weight.compute_class_weight('balanced', classes=np.unique(y), y=y)\n",
    "class_weight_dict = dict(enumerate(weights))"
   ]
  },
  {
   "cell_type": "code",
   "execution_count": 110,
   "id": "7596f0fd-bead-444e-af78-11907bc3b57f",
   "metadata": {},
   "outputs": [],
   "source": [
    "model = Sequential()\n",
    "model.add(Dense(10, activation=\"softmax\", input_shape=(1408,)))\n",
    "model.add(Dropout(0.5))\n",
    "#model.add(Dense(64, activation=\"relu\"))\n",
    "#model.add(Dropout(0.5))\n",
    "#model.add(Dense(16, activation=\"relu\"))\n",
    "#model.add(Dropout(0.5))\n",
    "#model.add(Dense(10, activation=\"softmax\"))"
   ]
  },
  {
   "cell_type": "code",
   "execution_count": 111,
   "id": "1198cbeb-a637-4fda-bf05-ffbe65cec6b5",
   "metadata": {},
   "outputs": [],
   "source": [
    "optimizer = Adam(learning_rate=.00001)\n",
    "model.compile(optimizer=\"SGD\", loss=\"sparse_categorical_crossentropy\", metrics=[\"accuracy\"])"
   ]
  },
  {
   "cell_type": "code",
   "execution_count": 112,
   "id": "00100353-8405-4675-984d-19e797a578fe",
   "metadata": {},
   "outputs": [
    {
     "name": "stdout",
     "output_type": "stream",
     "text": [
      "Epoch 1/10\n",
      "82/82 [==============================] - 1s 6ms/step - loss: 3.3084 - accuracy: 0.4321 - val_loss: 6.9746 - val_accuracy: 0.5008\n",
      "Epoch 2/10\n",
      "82/82 [==============================] - 0s 3ms/step - loss: 2.1457 - accuracy: 0.4790 - val_loss: 6.8554 - val_accuracy: 0.5008\n",
      "Epoch 3/10\n",
      "82/82 [==============================] - 0s 2ms/step - loss: 1.9710 - accuracy: 0.4703 - val_loss: 7.2919 - val_accuracy: 0.5008\n",
      "Epoch 4/10\n",
      "82/82 [==============================] - 0s 2ms/step - loss: 1.8748 - accuracy: 0.4786 - val_loss: 7.4606 - val_accuracy: 0.5008\n",
      "Epoch 5/10\n",
      "82/82 [==============================] - 0s 2ms/step - loss: 1.7938 - accuracy: 0.4855 - val_loss: 7.8270 - val_accuracy: 0.5008\n",
      "Epoch 6/10\n",
      "82/82 [==============================] - 0s 2ms/step - loss: 1.8058 - accuracy: 0.4769 - val_loss: 7.6816 - val_accuracy: 0.5008\n",
      "Epoch 7/10\n",
      "82/82 [==============================] - 0s 2ms/step - loss: 1.7583 - accuracy: 0.4830 - val_loss: 7.8218 - val_accuracy: 0.5008\n",
      "Epoch 8/10\n",
      "82/82 [==============================] - 0s 2ms/step - loss: 1.8200 - accuracy: 0.4765 - val_loss: 7.9212 - val_accuracy: 0.5008\n",
      "Epoch 9/10\n",
      "82/82 [==============================] - 0s 2ms/step - loss: 1.7077 - accuracy: 0.4790 - val_loss: 8.0039 - val_accuracy: 0.5008\n",
      "Epoch 10/10\n",
      "82/82 [==============================] - 0s 2ms/step - loss: 1.7485 - accuracy: 0.4830 - val_loss: 7.9826 - val_accuracy: 0.5008\n"
     ]
    }
   ],
   "source": [
    "history = model.fit(X, y, \n",
    "                    validation_data=(V, y_val), \n",
    "                    shuffle=True,\n",
    "                    #class_weight=class_weight_dict, \n",
    "                    epochs=10, batch_size=64)"
   ]
  },
  {
   "cell_type": "code",
   "execution_count": 113,
   "id": "1539ce64-a1e9-4929-a4b9-61f66a8f5749",
   "metadata": {},
   "outputs": [
    {
     "name": "stdout",
     "output_type": "stream",
     "text": [
      "              precision    recall  f1-score   support\n",
      "\n",
      "           0       1.00      0.00      0.00       646\n",
      "           1       0.50      1.00      0.67       646\n",
      "\n",
      "    accuracy                           0.50      1292\n",
      "   macro avg       0.75      0.50      0.34      1292\n",
      "weighted avg       0.75      0.50      0.34      1292\n",
      "\n"
     ]
    }
   ],
   "source": [
    "val_pred = model.predict(V)\n",
    "print(classification_report(y_val, tf.argmax(val_pred, axis=1)))"
   ]
  },
  {
   "cell_type": "code",
   "execution_count": 114,
   "id": "e32b0eb3-a6e9-437e-8d1f-0c41ce5657d8",
   "metadata": {},
   "outputs": [
    {
     "data": {
      "text/plain": [
       "<tf.Tensor: shape=(1000,), dtype=int64, numpy=\n",
       "array([0, 1, 1, 1, 1, 1, 1, 1, 1, 1, 1, 1, 1, 1, 1, 1, 1, 1, 1, 1, 1, 1,\n",
       "       1, 1, 1, 1, 1, 1, 1, 1, 1, 1, 1, 1, 1, 1, 1, 1, 1, 1, 1, 1, 1, 1,\n",
       "       1, 1, 1, 1, 1, 1, 1, 1, 1, 1, 1, 1, 1, 1, 1, 1, 1, 1, 1, 1, 1, 1,\n",
       "       1, 1, 1, 1, 1, 1, 1, 1, 1, 1, 1, 1, 1, 1, 1, 1, 1, 1, 1, 1, 1, 1,\n",
       "       1, 1, 1, 1, 1, 1, 1, 1, 1, 1, 1, 1, 1, 1, 1, 1, 1, 1, 1, 1, 1, 1,\n",
       "       1, 1, 1, 1, 1, 1, 1, 1, 1, 1, 1, 1, 1, 1, 1, 1, 1, 1, 1, 1, 1, 1,\n",
       "       1, 1, 1, 1, 1, 1, 1, 1, 1, 1, 1, 1, 1, 1, 1, 1, 1, 1, 1, 1, 1, 1,\n",
       "       1, 1, 1, 1, 1, 1, 1, 1, 1, 1, 1, 1, 1, 1, 1, 1, 1, 1, 1, 1, 1, 1,\n",
       "       1, 1, 1, 1, 1, 1, 1, 1, 1, 1, 1, 1, 1, 1, 1, 1, 1, 1, 1, 1, 1, 1,\n",
       "       1, 1, 1, 1, 1, 1, 1, 1, 1, 1, 1, 1, 1, 1, 1, 1, 1, 1, 1, 1, 1, 1,\n",
       "       1, 1, 1, 1, 1, 1, 1, 1, 1, 1, 1, 1, 1, 1, 1, 1, 1, 1, 1, 1, 1, 1,\n",
       "       1, 1, 1, 1, 1, 1, 1, 1, 1, 1, 1, 1, 1, 1, 1, 1, 1, 1, 1, 1, 1, 1,\n",
       "       1, 1, 1, 1, 1, 1, 1, 1, 1, 1, 1, 1, 1, 1, 1, 1, 1, 1, 1, 1, 1, 1,\n",
       "       1, 1, 1, 1, 1, 1, 1, 1, 1, 1, 1, 1, 1, 1, 1, 1, 1, 1, 1, 1, 1, 1,\n",
       "       1, 1, 1, 1, 1, 1, 1, 1, 1, 1, 1, 1, 1, 1, 1, 1, 1, 1, 1, 1, 1, 1,\n",
       "       1, 1, 1, 1, 1, 1, 1, 1, 1, 1, 1, 1, 1, 1, 1, 1, 1, 1, 1, 1, 1, 1,\n",
       "       1, 1, 1, 1, 1, 1, 1, 1, 1, 1, 1, 1, 1, 1, 1, 1, 1, 1, 1, 1, 1, 1,\n",
       "       1, 1, 1, 1, 1, 1, 1, 1, 1, 1, 1, 1, 1, 1, 1, 1, 1, 1, 1, 1, 1, 1,\n",
       "       1, 1, 1, 1, 1, 1, 1, 1, 1, 1, 1, 1, 1, 1, 1, 1, 1, 1, 1, 1, 1, 1,\n",
       "       1, 1, 1, 1, 1, 1, 1, 1, 1, 1, 1, 1, 1, 1, 1, 1, 1, 1, 1, 1, 1, 1,\n",
       "       1, 1, 1, 1, 1, 1, 1, 1, 1, 1, 1, 1, 1, 1, 1, 1, 1, 1, 1, 1, 1, 1,\n",
       "       1, 1, 1, 1, 1, 1, 1, 1, 1, 1, 1, 1, 1, 1, 1, 1, 1, 1, 1, 1, 1, 1,\n",
       "       1, 1, 1, 1, 1, 1, 1, 1, 1, 1, 1, 1, 1, 1, 1, 1, 1, 1, 1, 1, 1, 1,\n",
       "       1, 1, 1, 1, 1, 1, 1, 1, 1, 1, 1, 1, 1, 1, 1, 1, 1, 1, 1, 1, 1, 1,\n",
       "       1, 1, 1, 1, 1, 1, 1, 1, 1, 1, 1, 1, 1, 1, 1, 1, 1, 1, 1, 1, 1, 1,\n",
       "       1, 1, 1, 1, 1, 1, 1, 1, 1, 1, 1, 1, 1, 1, 1, 1, 1, 1, 1, 1, 1, 1,\n",
       "       1, 1, 1, 1, 1, 1, 1, 1, 1, 1, 1, 1, 1, 1, 1, 1, 1, 1, 1, 1, 1, 1,\n",
       "       1, 1, 1, 1, 1, 1, 1, 1, 1, 1, 1, 1, 1, 1, 1, 1, 1, 1, 1, 1, 1, 1,\n",
       "       1, 1, 1, 1, 1, 1, 1, 1, 1, 1, 1, 1, 1, 1, 1, 1, 1, 1, 1, 1, 1, 1,\n",
       "       1, 1, 1, 1, 1, 1, 1, 1, 1, 1, 1, 1, 1, 1, 1, 1, 1, 1, 1, 1, 1, 1,\n",
       "       1, 1, 1, 1, 1, 1, 1, 1, 1, 1, 1, 1, 1, 1, 1, 1, 1, 1, 1, 1, 1, 1,\n",
       "       1, 1, 1, 1, 1, 1, 1, 1, 1, 1, 1, 1, 1, 1, 1, 1, 1, 1, 1, 1, 1, 1,\n",
       "       1, 1, 1, 1, 1, 1, 1, 1, 1, 1, 1, 1, 1, 1, 1, 1, 1, 1, 1, 1, 1, 1,\n",
       "       1, 1, 1, 1, 1, 1, 1, 1, 1, 1, 1, 1, 1, 1, 1, 1, 1, 1, 1, 1, 1, 1,\n",
       "       1, 1, 1, 1, 1, 1, 1, 1, 1, 1, 1, 1, 1, 1, 1, 1, 1, 1, 1, 1, 1, 1,\n",
       "       1, 1, 1, 1, 1, 1, 1, 1, 1, 1, 1, 1, 1, 1, 1, 1, 1, 1, 1, 1, 1, 1,\n",
       "       1, 1, 1, 1, 1, 1, 1, 1, 1, 1, 1, 1, 1, 1, 1, 1, 1, 1, 1, 1, 1, 1,\n",
       "       1, 1, 1, 1, 1, 1, 1, 1, 1, 1, 1, 1, 1, 1, 1, 1, 1, 1, 1, 1, 1, 1,\n",
       "       1, 1, 1, 1, 1, 1, 1, 1, 1, 1, 1, 1, 1, 1, 1, 1, 1, 1, 1, 1, 1, 1,\n",
       "       1, 1, 1, 1, 1, 1, 1, 1, 1, 1, 1, 1, 1, 1, 1, 1, 1, 1, 1, 1, 1, 1,\n",
       "       1, 1, 1, 1, 1, 1, 1, 1, 1, 1, 1, 1, 1, 1, 1, 1, 1, 1, 1, 1, 1, 1,\n",
       "       1, 1, 1, 1, 1, 1, 1, 1, 1, 1, 1, 1, 1, 1, 1, 1, 1, 1, 1, 1, 1, 1,\n",
       "       1, 1, 1, 1, 1, 1, 1, 1, 1, 1, 1, 1, 1, 1, 1, 1, 1, 1, 1, 1, 1, 1,\n",
       "       1, 1, 1, 1, 1, 1, 1, 1, 1, 1, 1, 1, 1, 1, 1, 1, 1, 1, 1, 1, 1, 1,\n",
       "       1, 1, 1, 1, 1, 1, 1, 1, 1, 1, 1, 1, 1, 1, 1, 1, 1, 1, 1, 1, 1, 1,\n",
       "       1, 1, 1, 1, 1, 1, 1, 1, 1, 1], dtype=int64)>"
      ]
     },
     "execution_count": 114,
     "metadata": {},
     "output_type": "execute_result"
    }
   ],
   "source": [
    "tf.argmax(val_pred[0:1000], axis=1)"
   ]
  },
  {
   "cell_type": "code",
   "execution_count": 115,
   "id": "2c69b356-e24e-442f-be70-bf0dbb3813c0",
   "metadata": {},
   "outputs": [
    {
     "name": "stdout",
     "output_type": "stream",
     "text": [
      "              precision    recall  f1-score   support\n",
      "\n",
      "           0       0.92      0.94      0.93      2593\n",
      "           1       0.94      0.91      0.93      2593\n",
      "\n",
      "    accuracy                           0.93      5186\n",
      "   macro avg       0.93      0.93      0.93      5186\n",
      "weighted avg       0.93      0.93      0.93      5186\n",
      "\n"
     ]
    }
   ],
   "source": [
    "y_pred = model.predict(X)\n",
    "print(classification_report(y, tf.argmax(y_pred, axis=1)))"
   ]
  },
  {
   "cell_type": "code",
   "execution_count": 109,
   "id": "f1882883-afba-42a5-9acf-fd48fbc097da",
   "metadata": {},
   "outputs": [
    {
     "data": {
      "text/plain": [
       "<tf.Tensor: shape=(1000,), dtype=int64, numpy=\n",
       "array([0, 0, 0, 0, 0, 0, 0, 0, 0, 0, 0, 0, 0, 0, 0, 0, 0, 0, 0, 0, 0, 0,\n",
       "       0, 0, 0, 0, 0, 0, 0, 0, 0, 0, 0, 0, 0, 0, 0, 0, 0, 0, 0, 0, 0, 0,\n",
       "       0, 0, 0, 0, 0, 0, 0, 0, 0, 0, 0, 0, 0, 0, 0, 0, 0, 0, 0, 0, 0, 0,\n",
       "       0, 0, 0, 0, 0, 0, 0, 0, 0, 0, 0, 0, 0, 0, 0, 0, 0, 0, 0, 0, 0, 0,\n",
       "       0, 0, 0, 0, 0, 0, 0, 0, 0, 0, 0, 0, 0, 0, 0, 0, 0, 0, 0, 0, 0, 0,\n",
       "       0, 0, 0, 0, 0, 0, 0, 0, 0, 0, 0, 0, 0, 0, 0, 0, 0, 0, 0, 0, 0, 0,\n",
       "       0, 0, 0, 0, 0, 0, 0, 0, 0, 0, 0, 0, 0, 0, 0, 0, 0, 0, 0, 0, 0, 0,\n",
       "       0, 0, 0, 0, 0, 0, 0, 0, 0, 0, 0, 0, 0, 0, 0, 0, 0, 0, 0, 0, 0, 0,\n",
       "       0, 0, 0, 0, 0, 0, 0, 0, 0, 0, 0, 0, 0, 0, 0, 0, 0, 0, 0, 0, 0, 0,\n",
       "       0, 0, 0, 0, 0, 0, 0, 0, 0, 0, 0, 0, 0, 0, 0, 0, 0, 0, 0, 0, 0, 0,\n",
       "       0, 0, 0, 0, 0, 0, 0, 0, 0, 0, 0, 0, 0, 0, 0, 0, 0, 0, 0, 0, 0, 0,\n",
       "       1, 1, 0, 1, 1, 1, 1, 1, 1, 1, 1, 1, 1, 1, 1, 1, 1, 1, 1, 1, 1, 1,\n",
       "       1, 1, 1, 0, 0, 1, 1, 1, 1, 1, 1, 1, 1, 1, 1, 1, 1, 1, 1, 1, 0, 1,\n",
       "       1, 0, 0, 0, 0, 0, 0, 0, 0, 0, 0, 0, 0, 0, 0, 0, 0, 0, 0, 0, 0, 0,\n",
       "       0, 0, 0, 0, 0, 0, 0, 0, 0, 0, 0, 0, 0, 0, 0, 0, 0, 0, 0, 0, 0, 0,\n",
       "       0, 0, 0, 0, 0, 0, 0, 0, 0, 0, 0, 0, 0, 0, 1, 0, 0, 0, 0, 0, 1, 0,\n",
       "       0, 0, 0, 0, 0, 0, 0, 0, 0, 0, 0, 0, 0, 0, 0, 0, 0, 0, 0, 0, 0, 0,\n",
       "       0, 0, 0, 0, 0, 0, 0, 0, 0, 0, 0, 0, 0, 0, 0, 0, 0, 0, 0, 0, 0, 0,\n",
       "       0, 0, 0, 0, 0, 0, 0, 0, 0, 0, 0, 0, 0, 0, 0, 0, 0, 0, 0, 0, 0, 0,\n",
       "       0, 0, 0, 0, 0, 0, 0, 0, 0, 0, 0, 0, 0, 0, 0, 0, 0, 0, 0, 0, 0, 0,\n",
       "       0, 0, 0, 0, 0, 0, 0, 0, 0, 0, 0, 0, 0, 0, 0, 0, 0, 0, 0, 0, 0, 0,\n",
       "       0, 0, 0, 0, 0, 0, 0, 0, 0, 0, 0, 0, 0, 0, 0, 0, 0, 0, 0, 0, 0, 0,\n",
       "       0, 0, 0, 0, 0, 0, 0, 0, 0, 0, 0, 0, 0, 0, 0, 0, 0, 0, 0, 0, 0, 0,\n",
       "       0, 0, 0, 0, 0, 0, 0, 0, 0, 0, 0, 0, 0, 0, 0, 0, 0, 0, 0, 0, 0, 0,\n",
       "       0, 0, 0, 0, 0, 0, 0, 0, 0, 0, 0, 0, 0, 0, 0, 0, 0, 0, 0, 0, 0, 0,\n",
       "       0, 0, 0, 0, 0, 0, 0, 0, 0, 0, 0, 0, 0, 0, 0, 0, 0, 0, 0, 0, 0, 0,\n",
       "       0, 0, 0, 0, 0, 0, 0, 0, 0, 0, 0, 0, 0, 0, 0, 0, 0, 0, 0, 0, 0, 0,\n",
       "       0, 0, 0, 0, 0, 1, 1, 1, 1, 1, 1, 1, 1, 1, 1, 1, 1, 1, 1, 1, 1, 1,\n",
       "       1, 1, 1, 1, 1, 1, 1, 1, 1, 1, 1, 1, 1, 1, 1, 1, 1, 1, 1, 1, 1, 1,\n",
       "       1, 1, 1, 1, 1, 1, 1, 1, 1, 1, 1, 1, 1, 1, 1, 1, 1, 1, 1, 1, 1, 1,\n",
       "       1, 1, 1, 1, 1, 1, 1, 1, 1, 1, 1, 1, 1, 1, 1, 1, 1, 1, 1, 1, 1, 0,\n",
       "       1, 1, 1, 1, 1, 1, 0, 1, 0, 1, 1, 1, 0, 0, 0, 0, 0, 1, 0, 0, 1, 0,\n",
       "       0, 0, 0, 0, 0, 0, 1, 0, 1, 1, 1, 1, 1, 1, 1, 1, 1, 1, 0, 0, 1, 0,\n",
       "       0, 0, 0, 0, 0, 0, 1, 1, 0, 0, 0, 0, 0, 0, 0, 0, 1, 0, 1, 1, 1, 1,\n",
       "       1, 0, 1, 1, 1, 1, 1, 1, 0, 1, 0, 0, 0, 0, 0, 0, 1, 0, 0, 0, 0, 0,\n",
       "       0, 0, 0, 0, 1, 0, 0, 0, 0, 0, 0, 1, 0, 0, 1, 0, 0, 1, 0, 0, 0, 0,\n",
       "       1, 0, 0, 0, 0, 0, 0, 0, 0, 1, 0, 0, 0, 0, 0, 0, 0, 0, 0, 0, 0, 0,\n",
       "       0, 0, 0, 0, 0, 0, 0, 0, 0, 0, 0, 0, 0, 0, 0, 0, 0, 0, 0, 0, 0, 0,\n",
       "       0, 0, 0, 0, 0, 0, 0, 0, 1, 1, 0, 0, 0, 0, 0, 0, 0, 0, 0, 0, 0, 0,\n",
       "       0, 0, 0, 0, 0, 1, 1, 1, 1, 1, 1, 1, 1, 1, 1, 1, 1, 1, 1, 1, 1, 1,\n",
       "       1, 1, 1, 1, 1, 1, 1, 1, 1, 1, 1, 1, 1, 1, 1, 1, 1, 1, 1, 1, 1, 1,\n",
       "       1, 1, 1, 1, 1, 1, 1, 1, 1, 1, 1, 1, 1, 1, 1, 1, 1, 1, 1, 1, 1, 1,\n",
       "       1, 1, 1, 1, 1, 1, 1, 1, 1, 1, 1, 1, 1, 1, 1, 1, 1, 1, 1, 1, 1, 1,\n",
       "       1, 1, 1, 1, 1, 1, 1, 1, 1, 1, 1, 1, 1, 1, 1, 1, 1, 1, 1, 1, 1, 1,\n",
       "       1, 1, 1, 1, 1, 1, 1, 1, 1, 1, 1, 1, 1, 1, 1, 1, 1, 1, 1, 1, 1, 1,\n",
       "       1, 1, 1, 1, 1, 1, 1, 1, 1, 1], dtype=int64)>"
      ]
     },
     "execution_count": 109,
     "metadata": {},
     "output_type": "execute_result"
    }
   ],
   "source": [
    "tf.argmax(y_pred[2000:3000], axis=1)"
   ]
  },
  {
   "cell_type": "code",
   "execution_count": null,
   "id": "0584cee0-12d2-4c17-b5c3-aa70f4e57b08",
   "metadata": {},
   "outputs": [],
   "source": []
  }
 ],
 "metadata": {
  "kernelspec": {
   "display_name": "Python 3 (ipykernel)",
   "language": "python",
   "name": "python3"
  },
  "language_info": {
   "codemirror_mode": {
    "name": "ipython",
    "version": 3
   },
   "file_extension": ".py",
   "mimetype": "text/x-python",
   "name": "python",
   "nbconvert_exporter": "python",
   "pygments_lexer": "ipython3",
   "version": "3.10.11"
  }
 },
 "nbformat": 4,
 "nbformat_minor": 5
}
